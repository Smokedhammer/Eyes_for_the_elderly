{
 "cells": [
  {
   "cell_type": "code",
   "execution_count": 1,
   "id": "f49199f5",
   "metadata": {},
   "outputs": [
    {
     "name": "stdout",
     "output_type": "stream",
     "text": [
      "Requirement already satisfied: google-cloud-speech in c:\\users\\soham\\anaconda3\\lib\\site-packages (2.16.2)Note: you may need to restart the kernel to use updated packages.\n",
      "\n",
      "Requirement already satisfied: protobuf!=3.20.0,!=3.20.1,!=4.21.0,!=4.21.1,!=4.21.2,!=4.21.3,!=4.21.4,!=4.21.5,<5.0.0dev,>=3.19.5 in c:\\users\\soham\\anaconda3\\lib\\site-packages (from google-cloud-speech) (4.21.9)\n",
      "Requirement already satisfied: proto-plus<2.0.0dev,>=1.22.0 in c:\\users\\soham\\anaconda3\\lib\\site-packages (from google-cloud-speech) (1.22.1)\n",
      "Requirement already satisfied: google-api-core[grpc]!=2.0.*,!=2.1.*,!=2.2.*,!=2.3.*,!=2.4.*,!=2.5.*,!=2.6.*,!=2.7.*,<3.0.0dev,>=1.32.0 in c:\\users\\soham\\anaconda3\\lib\\site-packages (from google-cloud-speech) (2.10.2)\n",
      "Requirement already satisfied: google-auth<3.0dev,>=1.25.0 in c:\\users\\soham\\anaconda3\\lib\\site-packages (from google-api-core[grpc]!=2.0.*,!=2.1.*,!=2.2.*,!=2.3.*,!=2.4.*,!=2.5.*,!=2.6.*,!=2.7.*,<3.0.0dev,>=1.32.0->google-cloud-speech) (2.6.2)\n",
      "Requirement already satisfied: googleapis-common-protos<2.0dev,>=1.56.2 in c:\\users\\soham\\anaconda3\\lib\\site-packages (from google-api-core[grpc]!=2.0.*,!=2.1.*,!=2.2.*,!=2.3.*,!=2.4.*,!=2.5.*,!=2.6.*,!=2.7.*,<3.0.0dev,>=1.32.0->google-cloud-speech) (1.56.4)\n",
      "Requirement already satisfied: requests<3.0.0dev,>=2.18.0 in c:\\users\\soham\\anaconda3\\lib\\site-packages (from google-api-core[grpc]!=2.0.*,!=2.1.*,!=2.2.*,!=2.3.*,!=2.4.*,!=2.5.*,!=2.6.*,!=2.7.*,<3.0.0dev,>=1.32.0->google-cloud-speech) (2.26.0)\n",
      "Requirement already satisfied: grpcio<2.0dev,>=1.33.2 in c:\\users\\soham\\anaconda3\\lib\\site-packages (from google-api-core[grpc]!=2.0.*,!=2.1.*,!=2.2.*,!=2.3.*,!=2.4.*,!=2.5.*,!=2.6.*,!=2.7.*,<3.0.0dev,>=1.32.0->google-cloud-speech) (1.50.0)\n",
      "Requirement already satisfied: grpcio-status<2.0dev,>=1.33.2 in c:\\users\\soham\\anaconda3\\lib\\site-packages (from google-api-core[grpc]!=2.0.*,!=2.1.*,!=2.2.*,!=2.3.*,!=2.4.*,!=2.5.*,!=2.6.*,!=2.7.*,<3.0.0dev,>=1.32.0->google-cloud-speech) (1.50.0)\n",
      "Requirement already satisfied: cachetools<6.0,>=2.0.0 in c:\\users\\soham\\anaconda3\\lib\\site-packages (from google-auth<3.0dev,>=1.25.0->google-api-core[grpc]!=2.0.*,!=2.1.*,!=2.2.*,!=2.3.*,!=2.4.*,!=2.5.*,!=2.6.*,!=2.7.*,<3.0.0dev,>=1.32.0->google-cloud-speech) (5.0.0)\n",
      "Requirement already satisfied: pyasn1-modules>=0.2.1 in c:\\users\\soham\\anaconda3\\lib\\site-packages (from google-auth<3.0dev,>=1.25.0->google-api-core[grpc]!=2.0.*,!=2.1.*,!=2.2.*,!=2.3.*,!=2.4.*,!=2.5.*,!=2.6.*,!=2.7.*,<3.0.0dev,>=1.32.0->google-cloud-speech) (0.2.8)\n",
      "Requirement already satisfied: rsa<5,>=3.1.4 in c:\\users\\soham\\anaconda3\\lib\\site-packages (from google-auth<3.0dev,>=1.25.0->google-api-core[grpc]!=2.0.*,!=2.1.*,!=2.2.*,!=2.3.*,!=2.4.*,!=2.5.*,!=2.6.*,!=2.7.*,<3.0.0dev,>=1.32.0->google-cloud-speech) (4.8)\n",
      "Requirement already satisfied: six>=1.9.0 in c:\\users\\soham\\anaconda3\\lib\\site-packages (from google-auth<3.0dev,>=1.25.0->google-api-core[grpc]!=2.0.*,!=2.1.*,!=2.2.*,!=2.3.*,!=2.4.*,!=2.5.*,!=2.6.*,!=2.7.*,<3.0.0dev,>=1.32.0->google-cloud-speech) (1.16.0)\n",
      "Requirement already satisfied: pyasn1<0.5.0,>=0.4.6 in c:\\users\\soham\\anaconda3\\lib\\site-packages (from pyasn1-modules>=0.2.1->google-auth<3.0dev,>=1.25.0->google-api-core[grpc]!=2.0.*,!=2.1.*,!=2.2.*,!=2.3.*,!=2.4.*,!=2.5.*,!=2.6.*,!=2.7.*,<3.0.0dev,>=1.32.0->google-cloud-speech) (0.4.8)\n",
      "Requirement already satisfied: urllib3<1.27,>=1.21.1 in c:\\users\\soham\\anaconda3\\lib\\site-packages (from requests<3.0.0dev,>=2.18.0->google-api-core[grpc]!=2.0.*,!=2.1.*,!=2.2.*,!=2.3.*,!=2.4.*,!=2.5.*,!=2.6.*,!=2.7.*,<3.0.0dev,>=1.32.0->google-cloud-speech) (1.26.7)\n",
      "Requirement already satisfied: idna<4,>=2.5 in c:\\users\\soham\\anaconda3\\lib\\site-packages (from requests<3.0.0dev,>=2.18.0->google-api-core[grpc]!=2.0.*,!=2.1.*,!=2.2.*,!=2.3.*,!=2.4.*,!=2.5.*,!=2.6.*,!=2.7.*,<3.0.0dev,>=1.32.0->google-cloud-speech) (3.2)"
     ]
    },
    {
     "name": "stderr",
     "output_type": "stream",
     "text": [
      "WARNING: Ignoring invalid distribution -rotobuf (c:\\users\\soham\\anaconda3\\lib\\site-packages)\n",
      "WARNING: Ignoring invalid distribution -pencv-python (c:\\users\\soham\\anaconda3\\lib\\site-packages)\n",
      "WARNING: Ignoring invalid distribution -orch (c:\\users\\soham\\anaconda3\\lib\\site-packages)\n",
      "WARNING: Ignoring invalid distribution -rotobuf (c:\\users\\soham\\anaconda3\\lib\\site-packages)\n",
      "WARNING: Ignoring invalid distribution -pencv-python (c:\\users\\soham\\anaconda3\\lib\\site-packages)\n",
      "WARNING: Ignoring invalid distribution -orch (c:\\users\\soham\\anaconda3\\lib\\site-packages)\n",
      "WARNING: Ignoring invalid distribution -rotobuf (c:\\users\\soham\\anaconda3\\lib\\site-packages)\n",
      "WARNING: Ignoring invalid distribution -pencv-python (c:\\users\\soham\\anaconda3\\lib\\site-packages)\n",
      "WARNING: Ignoring invalid distribution -orch (c:\\users\\soham\\anaconda3\\lib\\site-packages)\n",
      "WARNING: Ignoring invalid distribution -rotobuf (c:\\users\\soham\\anaconda3\\lib\\site-packages)\n",
      "WARNING: Ignoring invalid distribution -pencv-python (c:\\users\\soham\\anaconda3\\lib\\site-packages)\n",
      "WARNING: Ignoring invalid distribution -orch (c:\\users\\soham\\anaconda3\\lib\\site-packages)\n",
      "WARNING: Ignoring invalid distribution -rotobuf (c:\\users\\soham\\anaconda3\\lib\\site-packages)\n"
     ]
    },
    {
     "name": "stdout",
     "output_type": "stream",
     "text": [
      "\n",
      "Requirement already satisfied: charset-normalizer~=2.0.0 in c:\\users\\soham\\anaconda3\\lib\\site-packages (from requests<3.0.0dev,>=2.18.0->google-api-core[grpc]!=2.0.*,!=2.1.*,!=2.2.*,!=2.3.*,!=2.4.*,!=2.5.*,!=2.6.*,!=2.7.*,<3.0.0dev,>=1.32.0->google-cloud-speech) (2.0.4)\n",
      "Requirement already satisfied: certifi>=2017.4.17 in c:\\users\\soham\\anaconda3\\lib\\site-packages (from requests<3.0.0dev,>=2.18.0->google-api-core[grpc]!=2.0.*,!=2.1.*,!=2.2.*,!=2.3.*,!=2.4.*,!=2.5.*,!=2.6.*,!=2.7.*,<3.0.0dev,>=1.32.0->google-cloud-speech) (2022.12.7)\n"
     ]
    },
    {
     "name": "stderr",
     "output_type": "stream",
     "text": [
      "WARNING: Ignoring invalid distribution -pencv-python (c:\\users\\soham\\anaconda3\\lib\\site-packages)\n",
      "WARNING: Ignoring invalid distribution -orch (c:\\users\\soham\\anaconda3\\lib\\site-packages)\n",
      "WARNING: Ignoring invalid distribution -rotobuf (c:\\users\\soham\\anaconda3\\lib\\site-packages)\n",
      "WARNING: Ignoring invalid distribution -pencv-python (c:\\users\\soham\\anaconda3\\lib\\site-packages)\n",
      "WARNING: Ignoring invalid distribution -orch (c:\\users\\soham\\anaconda3\\lib\\site-packages)\n"
     ]
    }
   ],
   "source": [
    "pip install --upgrade google-cloud-speech"
   ]
  },
  {
   "cell_type": "code",
   "execution_count": 2,
   "id": "1ab80ec0",
   "metadata": {},
   "outputs": [],
   "source": [
    "import os"
   ]
  },
  {
   "cell_type": "code",
   "execution_count": 3,
   "id": "a141587e",
   "metadata": {},
   "outputs": [],
   "source": [
    "from google.cloud import speech"
   ]
  },
  {
   "cell_type": "code",
   "execution_count": 4,
   "id": "e6d40d6d",
   "metadata": {},
   "outputs": [],
   "source": [
    "os.environ['GOOGLE_APPLICATION_CREDENTIALS']='cloud_admin.json'"
   ]
  },
  {
   "cell_type": "code",
   "execution_count": 5,
   "id": "27d6c07f",
   "metadata": {},
   "outputs": [],
   "source": [
    "speech_client = speech.SpeechClient()"
   ]
  },
  {
   "cell_type": "code",
   "execution_count": 6,
   "id": "12fd8b90",
   "metadata": {},
   "outputs": [],
   "source": [
    "# Trancsribing a local media file"
   ]
  },
  {
   "cell_type": "code",
   "execution_count": 7,
   "id": "d660c07f",
   "metadata": {},
   "outputs": [],
   "source": [
    "# Load the media files (transcribe)"
   ]
  },
  {
   "cell_type": "code",
   "execution_count": 8,
   "id": "2fa7d5ed",
   "metadata": {},
   "outputs": [],
   "source": [
    "media_file_mp3 = 'speech_short.mp3'\n",
    "#media_file_wav = 'speech.wav'"
   ]
  },
  {
   "cell_type": "code",
   "execution_count": 16,
   "id": "b5a5d2d2",
   "metadata": {},
   "outputs": [],
   "source": [
    "with open(media_file_mp3, 'rb') as f1:\n",
    "    byte_data_mp3 = f1.read()\n",
    "audio_mp3 = speech.RecognitionAudio(content=byte_data_mp3)"
   ]
  },
  {
   "cell_type": "code",
   "execution_count": 17,
   "id": "6faba32d",
   "metadata": {},
   "outputs": [],
   "source": [
    "# Configure media file output"
   ]
  },
  {
   "cell_type": "code",
   "execution_count": 18,
   "id": "b70e3d77",
   "metadata": {},
   "outputs": [],
   "source": [
    "config_mp3 = speech.RecognitionConfig(\n",
    "    sample_rate_hertz = 48000,\n",
    "    enable_automatic_punctuation = True,\n",
    "    language_code = 'en-US'\n",
    ")"
   ]
  },
  {
   "cell_type": "code",
   "execution_count": 19,
   "id": "b2cd8dc2",
   "metadata": {},
   "outputs": [],
   "source": [
    "# Transcribe"
   ]
  },
  {
   "cell_type": "code",
   "execution_count": 20,
   "id": "65df92d6",
   "metadata": {},
   "outputs": [],
   "source": [
    "response_standard_mp3 = speech_client.recognize(\n",
    "    config = config_mp3,\n",
    "    audio= audio_mp3\n",
    ")"
   ]
  },
  {
   "cell_type": "code",
   "execution_count": 21,
   "id": "4a60face",
   "metadata": {},
   "outputs": [
    {
     "data": {
      "text/plain": [
       "datetime.timedelta(seconds=57)"
      ]
     },
     "execution_count": 21,
     "metadata": {},
     "output_type": "execute_result"
    }
   ],
   "source": [
    "response_standard_mp3.total_billed_time"
   ]
  },
  {
   "cell_type": "code",
   "execution_count": 22,
   "id": "b53d2745",
   "metadata": {},
   "outputs": [
    {
     "data": {
      "text/plain": [
       "results {\n",
       "  alternatives {\n",
       "    transcript: \"The biggest poison in his regret.\"\n",
       "    confidence: 0.832085311\n",
       "  }\n",
       "  result_end_time {\n",
       "    seconds: 5\n",
       "    nanos: 640000000\n",
       "  }\n",
       "  language_code: \"en-us\"\n",
       "}\n",
       "results {\n",
       "  alternatives {\n",
       "    transcript: \" But I think there are a lot of people that have dreams and aspirations of things that they always wanted to do, but it wasn\\'t the right time. Or they didn\\'t have enough money or didn\\'t have enough experience. It\\'s never the right time. You never going to have the right experience and all the sudden you wake up and you\\'re 70.\"\n",
       "    confidence: 0.941898108\n",
       "  }\n",
       "  result_end_time {\n",
       "    seconds: 27\n",
       "    nanos: 880000000\n",
       "  }\n",
       "  language_code: \"en-us\"\n",
       "}\n",
       "results {\n",
       "  alternatives {\n",
       "    transcript: \" And you like. I wish I could have done it.\"\n",
       "    confidence: 0.941285908\n",
       "  }\n",
       "  result_end_time {\n",
       "    seconds: 31\n",
       "    nanos: 460000000\n",
       "  }\n",
       "  language_code: \"en-us\"\n",
       "}\n",
       "results {\n",
       "  alternatives {\n",
       "    transcript: \" It\\'s what you don\\'t do that screws with you later on.\"\n",
       "    confidence: 0.982509077\n",
       "  }\n",
       "  result_end_time {\n",
       "    seconds: 36\n",
       "    nanos: 500000000\n",
       "  }\n",
       "  language_code: \"en-us\"\n",
       "}\n",
       "results {\n",
       "  alternatives {\n",
       "    transcript: \" I got one shot at this life.\"\n",
       "    confidence: 0.9459396\n",
       "  }\n",
       "  result_end_time {\n",
       "    seconds: 39\n",
       "    nanos: 810000000\n",
       "  }\n",
       "  language_code: \"en-us\"\n",
       "}\n",
       "results {\n",
       "  alternatives {\n",
       "    transcript: \" This is it and I don\\'t want to go through life in the 80% version of it. I don\\'t look back and be like 77 be like I didn\\'t do that.\"\n",
       "    confidence: 0.940560281\n",
       "  }\n",
       "  result_end_time {\n",
       "    seconds: 50\n",
       "    nanos: 60000000\n",
       "  }\n",
       "  language_code: \"en-us\"\n",
       "}\n",
       "results {\n",
       "  alternatives {\n",
       "    transcript: \" There\\'s so much I want to do and I love like so much. I don\\'t want to miss it.\"\n",
       "    confidence: 0.944208562\n",
       "  }\n",
       "  result_end_time {\n",
       "    seconds: 56\n",
       "    nanos: 440000000\n",
       "  }\n",
       "  language_code: \"en-us\"\n",
       "}\n",
       "total_billed_time {\n",
       "  seconds: 57\n",
       "}"
      ]
     },
     "execution_count": 22,
     "metadata": {},
     "output_type": "execute_result"
    }
   ],
   "source": [
    "response_standard_mp3"
   ]
  },
  {
   "cell_type": "code",
   "execution_count": 57,
   "id": "23c04edc",
   "metadata": {},
   "outputs": [],
   "source": [
    "media_uri = \"gs://bucket_soham_1/speech.mp3\""
   ]
  },
  {
   "cell_type": "code",
   "execution_count": 58,
   "id": "5b0c8f27",
   "metadata": {},
   "outputs": [],
   "source": [
    "long_audio_wav = speech.RecognitionAudio(uri=media_uri)"
   ]
  },
  {
   "cell_type": "code",
   "execution_count": null,
   "id": "2bf5ad4d",
   "metadata": {},
   "outputs": [],
   "source": [
    "speech.RecognitionConfig()"
   ]
  },
  {
   "cell_type": "code",
   "execution_count": 63,
   "id": "317aba69",
   "metadata": {},
   "outputs": [],
   "source": [
    "config_mp3_enhanced = speech.RecognitionConfig(\n",
    "    sample_rate_hertz=48000,\n",
    "    enable_automatic_punctuation=True,\n",
    "    language_code ='en-US',\n",
    "    use_enhanced=True,\n",
    "    model='command_and_search'\n",
    ")"
   ]
  },
  {
   "cell_type": "code",
   "execution_count": 64,
   "id": "9d16528d",
   "metadata": {},
   "outputs": [],
   "source": [
    "operation = speech_client.long_running_recognize(\n",
    "    config = config_mp3_enhanced,\n",
    "    audio= long_audio_wav\n",
    ")"
   ]
  },
  {
   "cell_type": "code",
   "execution_count": 65,
   "id": "1e1de884",
   "metadata": {},
   "outputs": [
    {
     "name": "stdout",
     "output_type": "stream",
     "text": [
      "<google.api_core.operation.Operation object at 0x000002A183E5C1F0>\n"
     ]
    }
   ],
   "source": [
    "print(operation)"
   ]
  },
  {
   "cell_type": "code",
   "execution_count": 66,
   "id": "0ea94c5d",
   "metadata": {},
   "outputs": [],
   "source": [
    "response= operation.result()"
   ]
  },
  {
   "cell_type": "code",
   "execution_count": 67,
   "id": "6c0f3836",
   "metadata": {},
   "outputs": [
    {
     "data": {
      "text/plain": [
       "google.cloud.speech_v1.types.cloud_speech.LongRunningRecognizeResponse"
      ]
     },
     "execution_count": 67,
     "metadata": {},
     "output_type": "execute_result"
    }
   ],
   "source": [
    "type(response)\n"
   ]
  },
  {
   "cell_type": "code",
   "execution_count": 68,
   "id": "ded40027",
   "metadata": {},
   "outputs": [
    {
     "name": "stdout",
     "output_type": "stream",
     "text": [
      "Sometimes you need to get knocked down before, you can really figure out what you up with your fight. Is that how you need to fight it?\n",
      "0.9210127592086792\n",
      " Sometimes you need to feel the pain and sting of defeat to activate the real passion and purpose that God predestined inside of you.\n",
      "0.978005588054657\n",
      " God says it's Jeremiah. I know the plans I have for you plans to prosper you and not to harm. You plans to give you hope and a future.\n",
      "0.9665605425834656\n",
      " Kimmy. Well, on this day this day when you have reached the hilltop and you are deciding on our next jobs. Next steps careers further education, you would rather find purpose\n",
      "0.9218074679374695\n",
      " Then a job or career.\n",
      "0.8985251188278198\n",
      " Purpose crosses disciplines.\n",
      "0.9438664317131042\n",
      " Purpose is an essential element of you. It is the reason you're on the planet at this particular time in history, your very existence is wrapped up in the things you are here to fulfill whatever you choose for career path. Remember the struggles along the wave are only meant to shape you for your purpose.\n",
      "0.953308641910553\n",
      " When God has something for you, it doesn't matter who stands against it.\n",
      "0.9601341485977173\n",
      " If it's meant for you.\n",
      "0.9522193670272827\n",
      " God will remove someone that's holding you back away from a door.\n",
      "0.8431994318962097\n",
      " I put someone there. Who will open it for you.\n",
      "0.9111975431442261\n",
      " I don't know what your future is.\n",
      "0.9848269820213318\n",
      " but if you are willing to take the Hardaway,\n",
      "0.9102490544319153\n",
      " The more complicated one, the one with more failures. At first, this success has the one that has ultimately proved that have more meetings, more Glory than you will not regret. It press on with pride\n",
      "0.9331629872322083\n",
      " impress on with purpose,\n",
      "0.828012228012085\n",
      " And appreciate what God has brought you through.\n",
      "0.9849021434783936\n"
     ]
    }
   ],
   "source": [
    "for result in response.results:\n",
    "    print(result.alternatives[0].transcript)\n",
    "    print(result.alternatives[0].confidence)"
   ]
  },
  {
   "cell_type": "code",
   "execution_count": 73,
   "id": "01ec48a6",
   "metadata": {},
   "outputs": [
    {
     "name": "stdout",
     "output_type": "stream",
     "text": [
      "Collecting PyAudioNote: you may need to restart the kernel to use updated packages.\n",
      "  Downloading PyAudio-0.2.12-cp39-cp39-win_amd64.whl (163 kB)\n",
      "Installing collected packages: PyAudio\n",
      "Successfully installed PyAudio-0.2.12\n",
      "\n"
     ]
    },
    {
     "name": "stderr",
     "output_type": "stream",
     "text": [
      "WARNING: Ignoring invalid distribution -rotobuf (c:\\users\\soham\\anaconda3\\lib\\site-packages)\n",
      "WARNING: Ignoring invalid distribution -pencv-python (c:\\users\\soham\\anaconda3\\lib\\site-packages)\n",
      "WARNING: Ignoring invalid distribution -rotobuf (c:\\users\\soham\\anaconda3\\lib\\site-packages)\n",
      "WARNING: Ignoring invalid distribution -pencv-python (c:\\users\\soham\\anaconda3\\lib\\site-packages)\n",
      "WARNING: Ignoring invalid distribution -rotobuf (c:\\users\\soham\\anaconda3\\lib\\site-packages)\n",
      "WARNING: Ignoring invalid distribution -pencv-python (c:\\users\\soham\\anaconda3\\lib\\site-packages)\n",
      "WARNING: Ignoring invalid distribution -rotobuf (c:\\users\\soham\\anaconda3\\lib\\site-packages)\n",
      "WARNING: Ignoring invalid distribution -pencv-python (c:\\users\\soham\\anaconda3\\lib\\site-packages)\n",
      "WARNING: Ignoring invalid distribution -rotobuf (c:\\users\\soham\\anaconda3\\lib\\site-packages)\n",
      "WARNING: Ignoring invalid distribution -pencv-python (c:\\users\\soham\\anaconda3\\lib\\site-packages)\n",
      "WARNING: Ignoring invalid distribution -rotobuf (c:\\users\\soham\\anaconda3\\lib\\site-packages)\n",
      "WARNING: Ignoring invalid distribution -pencv-python (c:\\users\\soham\\anaconda3\\lib\\site-packages)\n",
      "WARNING: Ignoring invalid distribution -rotobuf (c:\\users\\soham\\anaconda3\\lib\\site-packages)\n",
      "WARNING: Ignoring invalid distribution -pencv-python (c:\\users\\soham\\anaconda3\\lib\\site-packages)\n"
     ]
    }
   ],
   "source": [
    "pip install PyAudio"
   ]
  },
  {
   "cell_type": "code",
   "execution_count": 11,
   "id": "510b5153",
   "metadata": {
    "scrolled": true
   },
   "outputs": [
    {
     "name": "stdout",
     "output_type": "stream",
     "text": [
      "find my watch\n",
      "[\"\\x1b[34m\\x1b[1mdetect: \\x1b[0mweights=['best.pt'], source=test, data=data\\\\coco128.yaml, imgsz=[640, 640], conf_thres=0.1, iou_thres=0.45, max_det=1000, device=, view_img=False, save_txt=False, save_conf=False, save_crop=False, nosave=False, classes=None, agnostic_nms=False, augment=False, visualize=False, update=False, project=runs\\\\detect, name=exp, exist_ok=False, line_thickness=3, hide_labels=False, hide_conf=False, half=False, dnn=False, vid_stride=1\", '\\x1b[31m\\x1b[1mrequirements:\\x1b[0m YOLOv5 requirements \"lxml\" \"tensorflow==2.3.0rc0\" \"opencv-python==4.1.1.26\" not found, attempting AutoUpdate...', 'ERROR: Could not find a version that satisfies the requirement tensorflow==2.3.0rc0 (from versions: 2.8.0rc1, 2.8.0, 2.8.1, 2.8.2, 2.8.3, 2.8.4, 2.9.0rc0, 2.9.0rc1, 2.9.0rc2, 2.9.0, 2.9.1, 2.9.2, 2.9.3, 2.10.0rc0, 2.10.0rc1, 2.10.0rc2, 2.10.0rc3, 2.10.0, 2.10.1, 2.11.0rc0, 2.11.0rc1, 2.11.0rc2, 2.11.0)', 'ERROR: No matching distribution found for tensorflow==2.3.0rc0', '\\x1b[31m\\x1b[1mrequirements:\\x1b[0m  Command \\'pip install \"lxml\" \"tensorflow==2.3.0rc0\" \"opencv-python==4.1.1.26\"  \\' returned non-zero exit status 1.', 'YOLOv5  2022-11-2 Python-3.10.0 torch-1.13.1+cpu CPU', '', 'Fusing layers... ', 'Model summary: 157 layers, 1764577 parameters, 0 gradients, 4.1 GFLOPs', 'image 1/1 C:\\\\Users\\\\soham\\\\Desktop\\\\MU CV project\\\\yolov5\\\\test\\\\img1.jpg: 416x640 3 Watchs, 1 Bed, 116.6ms', 'Speed: 1.0ms pre-process, 116.6ms inference, 9.5ms NMS per image at shape (1, 3, 640, 640)', 'Results saved to \\x1b[1mruns\\\\detect\\\\exp198\\x1b[0m', '335.0', '228.0', '400.0', '297.0', \"[{'x1': 335.0, 'x2': 400.0, 'y1': 228.0, 'y2': 297.0, 'name': 'Watch'}]\", 'Watch 0.13', '256.0', '219.0', '391.0', '289.0', \"[{'x1': 335.0, 'x2': 400.0, 'y1': 228.0, 'y2': 297.0, 'name': 'Watch'}, {'x1': 256.0, 'x2': 391.0, 'y1': 219.0, 'y2': 289.0, 'name': 'Watch'}]\", 'Watch 0.18', '0.0', '0.0', '624.0', '329.0', \"[{'x1': 335.0, 'x2': 400.0, 'y1': 228.0, 'y2': 297.0, 'name': 'Watch'}, {'x1': 256.0, 'x2': 391.0, 'y1': 219.0, 'y2': 289.0, 'name': 'Watch'}, {'x1': 0.0, 'x2': 624.0, 'y1': 0.0, 'y2': 329.0, 'name': 'Bed'}]\", 'Bed 0.39', '285.0', '214.0', '330.0', '284.0', \"[{'x1': 335.0, 'x2': 400.0, 'y1': 228.0, 'y2': 297.0, 'name': 'Watch'}, {'x1': 256.0, 'x2': 391.0, 'y1': 219.0, 'y2': 289.0, 'name': 'Watch'}, {'x1': 0.0, 'x2': 624.0, 'y1': 0.0, 'y2': 329.0, 'name': 'Bed'}, {'x1': 285.0, 'x2': 330.0, 'y1': 214.0, 'y2': 284.0, 'name': 'Watch'}]\", 'Watch 0.51', 'hello', '######', \"{'Watch': 'Bed', 'Bed': 'Watch'}\", \"['Watch', 'Watch', 'Bed', 'Watch']\"]\n",
      "<bound method TextToSpeechClient.list_voices of <google.cloud.texttospeech_v1.services.text_to_speech.client.TextToSpeechClient object at 0x00000201BC8F68B0>>\n",
      " exit\n",
      "Exiting..\n"
     ]
    }
   ],
   "source": [
    "from __future__ import division\n",
    "\n",
    "import re\n",
    "import sys\n",
    "import ast # we import this for string evaluation\n",
    "\n",
    "from google.cloud import speech\n",
    "\n",
    "import pyaudio\n",
    "from six.moves import queue\n",
    "\n",
    "# Audio recording parameters\n",
    "RATE = 16000\n",
    "CHUNK = int(RATE / 10)  # 100ms\n",
    "\n",
    "\n",
    "class MicrophoneStream(object):\n",
    "    \"\"\"Opens a recording stream as a generator yielding the audio chunks.\"\"\"\n",
    "\n",
    "    def __init__(self, rate, chunk):\n",
    "        self._rate = rate\n",
    "        self._chunk = chunk\n",
    "\n",
    "        # Create a thread-safe buffer of audio data\n",
    "        self._buff = queue.Queue()\n",
    "        self.closed = True\n",
    "\n",
    "    def __enter__(self):\n",
    "        self._audio_interface = pyaudio.PyAudio()\n",
    "        self._audio_stream = self._audio_interface.open(\n",
    "            format=pyaudio.paInt16,\n",
    "            # The API currently only supports 1-channel (mono) audio\n",
    "            # https://goo.gl/z757pE\n",
    "            channels=1,\n",
    "            rate=self._rate,\n",
    "            input=True,\n",
    "            frames_per_buffer=self._chunk,\n",
    "            # Run the audio stream asynchronously to fill the buffer object.\n",
    "            # This is necessary so that the input device's buffer doesn't\n",
    "            # overflow while the calling thread makes network requests, etc.\n",
    "            stream_callback=self._fill_buffer,\n",
    "        )\n",
    "\n",
    "        self.closed = False\n",
    "\n",
    "        return self\n",
    "\n",
    "    def __exit__(self, type, value, traceback):\n",
    "        self._audio_stream.stop_stream()\n",
    "        self._audio_stream.close()\n",
    "        self.closed = True\n",
    "        # Signal the generator to terminate so that the client's\n",
    "        # streaming_recognize method will not block the process termination.\n",
    "        self._buff.put(None)\n",
    "        self._audio_interface.terminate()\n",
    "\n",
    "    def _fill_buffer(self, in_data, frame_count, time_info, status_flags):\n",
    "        \"\"\"Continuously collect data from the audio stream, into the buffer.\"\"\"\n",
    "        self._buff.put(in_data)\n",
    "        return None, pyaudio.paContinue\n",
    "\n",
    "    def generator(self):\n",
    "        while not self.closed:\n",
    "            # Use a blocking get() to ensure there's at least one chunk of\n",
    "            # data, and stop iteration if the chunk is None, indicating the\n",
    "            # end of the audio stream.\n",
    "            chunk = self._buff.get()\n",
    "            if chunk is None:\n",
    "                return\n",
    "            data = [chunk]\n",
    "\n",
    "            # Now consume whatever other data's still buffered.\n",
    "            while True:\n",
    "                try:\n",
    "                    chunk = self._buff.get(block=False)\n",
    "                    if chunk is None:\n",
    "                        return\n",
    "                    data.append(chunk)\n",
    "                except queue.Empty:\n",
    "                    break\n",
    "\n",
    "            yield b\"\".join(data)\n",
    "\n",
    "\n",
    "def listen_print_loop(responses):\n",
    "    \"\"\"Iterates through server responses and prints them.\n",
    "\n",
    "    The responses passed is a generator that will block until a response\n",
    "    is provided by the server.\n",
    "\n",
    "    Each response may contain multiple results, and each result may contain\n",
    "    multiple alternatives; for details, see https://goo.gl/tjCPAU.  Here we\n",
    "    print only the transcription for the top alternative of the top result.\n",
    "\n",
    "    In this case, responses are provided for interim results as well. If the\n",
    "    response is an interim one, print a line feed at the end of it, to allow\n",
    "    the next result to overwrite it, until the response is a final one. For the\n",
    "    final one, print a newline to preserve the finalized transcription.\n",
    "    \"\"\"\n",
    "    num_chars_printed = 0\n",
    "    for response in responses:\n",
    "        if not response.results:\n",
    "            continue\n",
    "\n",
    "        # The `results` list is consecutive. For streaming, we only care about\n",
    "        # the first result being considered, since once it's `is_final`, it\n",
    "        # moves on to considering the next utterance.\n",
    "        result = response.results[0]\n",
    "        if not result.alternatives:\n",
    "            continue\n",
    "\n",
    "        # Display the transcription of the top alternative.\n",
    "        transcript = result.alternatives[0].transcript\n",
    "\n",
    "        # Display interim results, but with a carriage return at the end of the\n",
    "        # line, so subsequent lines will overwrite them.\n",
    "        #\n",
    "        # If the previous result was longer than this one, we need to print\n",
    "        # some extra spaces to overwrite the previous result\n",
    "        overwrite_chars = \" \" * (num_chars_printed - len(transcript))\n",
    "\n",
    "        if not result.is_final:\n",
    "            sys.stdout.write(transcript + overwrite_chars + \"\\r\")\n",
    "            sys.stdout.flush()\n",
    "\n",
    "            num_chars_printed = len(transcript)\n",
    "\n",
    "        else:\n",
    "            print(transcript + overwrite_chars)\n",
    "\n",
    "            \n",
    "            ## Custom code:\n",
    "            # We need to now look for keywords such as find, if triggered we need to refer back to the algorithm which returns us stuff\n",
    "            # look for find/where + keyword of watch/glasses \n",
    "            \n",
    "        \n",
    "            # FOR DETECTING FOR A WATCH\n",
    "            if re.search(r\"(where).*(watch).*|(find).*(watch).*\",transcript,re.I):\n",
    "                # we write a function here to run the detect.py file\n",
    "                \n",
    "                output= !python detect.py --weights best.pt --img 640 --conf 0.1 --source test\n",
    "                \n",
    "                print(output)\n",
    "                \n",
    "                \n",
    "                if re.search(r\"Watch\",output[-1]):\n",
    "                    \n",
    "                    output_dict = ast.literal_eval(output[-2])\n",
    "                    \n",
    "                    location_of_object = output_dict['Watch']\n",
    "                    text=f\"I found the watch. It is on the {location_of_object}\"\n",
    "                    text_to_speech(text)\n",
    "                    IPython.display.Audio(\"Audio.mp3\")\n",
    "                    \n",
    "                else:\n",
    "                    text = \"object not found\"\n",
    "                       \n",
    "                    text_to_speech(text)\n",
    "                    IPython.display.Audio(\"Audio.mp3\")\n",
    "                    \n",
    "            \n",
    "            # FOR DETECTING FOR GLASSES        \n",
    "            if re.search(r\"(where).*(glasses).*|(find).*(glasses).*\",transcript,re.I):\n",
    "                # we write a function here to run the detect.py file\n",
    "                \n",
    "                output= !python detect.py --weights best.pt --img 640 --conf 0.1 --source test\n",
    "            \n",
    "                \n",
    "                print(output)\n",
    "                \n",
    "                \n",
    "                if re.search(r\"Glasses\",output[-1]):\n",
    "                    \n",
    "                    output_dict = ast.literal_eval(output[-2])\n",
    "                    \n",
    "                    #maybe add a try except block over here\n",
    "                    location_of_object = output_dict['Glasses']\n",
    "                    text=f\"I found the glasses. It is on the {location_of_object}\"\n",
    "                    text_to_speech(text)\n",
    "                    IPython.display.Audio(\"Audio.mp3\")\n",
    "\n",
    "                else:\n",
    "                    text = \"object not found\"\n",
    "                       \n",
    "                    text_to_speech(text)\n",
    "                    IPython.display.Audio(\"Audio.mp3\")\n",
    "                    \n",
    "                    \n",
    "            # FOR DETECTIN FOR THE PHONE\n",
    "            if re.search(r\"(where).*(phone).*|(find).*(phone).*\",transcript,re.I):\n",
    "                \n",
    "                \n",
    "                output= !python detect.py --weights best.pt --img 640 --conf 0.1 --source test\n",
    "            \n",
    "                \n",
    "                print(output)\n",
    "                \n",
    "                \n",
    "                if re.search(r\"Mobile phone\",output[-1]):\n",
    "                    \n",
    "                    output_dict = ast.literal_eval(output[-2])\n",
    "                    \n",
    "                    location_of_object = output_dict['Mobile phone']\n",
    "                    text=f\"I found the phone. It is on the {location_of_object}\"\n",
    "                    text_to_speech(text)\n",
    "                    IPython.display.Audio(\"Audio.mp3\")\n",
    "\n",
    "                else:\n",
    "                    text = \"object not found\"\n",
    "                       \n",
    "                    text_to_speech(text)\n",
    "                    IPython.display.Audio(\"Audio.mp3\")\n",
    "                    \n",
    "                    \n",
    "\n",
    "                \n",
    "                    \n",
    "                #if the object is in the item_list then we return the object with the maximum IOU\n",
    "                \n",
    "                #if the object is not in the list we return an audio file saying that we could not find the object\n",
    "            \n",
    "            \n",
    "            # Exit recognition if any of the transcribed phrases could be\n",
    "            # one of our keywords.\n",
    "            \n",
    "            if re.search(r\"\\b(exit|quit)\\b\", transcript, re.I):\n",
    "                print(\"Exiting..\")\n",
    "                break\n",
    "\n",
    "            num_chars_printed = 0\n",
    "\n",
    "\n",
    "def main():\n",
    "    # See http://g.co/cloud/speech/docs/languages\n",
    "    # for a list of supported languages.\n",
    "    language_code = \"en-US\"  # a BCP-47 language tag\n",
    "\n",
    "    client = speech.SpeechClient()\n",
    "    config = speech.RecognitionConfig(\n",
    "        encoding=speech.RecognitionConfig.AudioEncoding.LINEAR16,\n",
    "        sample_rate_hertz=RATE,\n",
    "        language_code=language_code,\n",
    "        model ='command_and_search'\n",
    "    )\n",
    "\n",
    "    streaming_config = speech.StreamingRecognitionConfig(\n",
    "        config=config, interim_results=True\n",
    "    )\n",
    "\n",
    "    with MicrophoneStream(RATE, CHUNK) as stream:\n",
    "        audio_generator = stream.generator()\n",
    "        requests = (\n",
    "            speech.StreamingRecognizeRequest(audio_content=content)\n",
    "            for content in audio_generator\n",
    "        )\n",
    "\n",
    "        responses = client.streaming_recognize(streaming_config, requests)\n",
    "\n",
    "        # Now, put the transcription responses to use.\n",
    "        listen_print_loop(responses)\n",
    "        \n",
    "        \n",
    "        \n",
    "\n",
    "\n",
    "if __name__ == \"__main__\":\n",
    "    main()"
   ]
  },
  {
   "cell_type": "code",
   "execution_count": null,
   "id": "324a2984",
   "metadata": {},
   "outputs": [],
   "source": []
  },
  {
   "cell_type": "code",
   "execution_count": null,
   "id": "f4c3c14f",
   "metadata": {},
   "outputs": [],
   "source": []
  },
  {
   "cell_type": "code",
   "execution_count": 30,
   "id": "1a240898",
   "metadata": {},
   "outputs": [
    {
     "name": "stdout",
     "output_type": "stream",
     "text": [
      "None\n"
     ]
    }
   ],
   "source": [
    "txt = \" watch \"\n",
    "\n",
    "print( re.search(\"\\bwatch\\b\",txt,re.I))"
   ]
  },
  {
   "cell_type": "code",
   "execution_count": 18,
   "id": "a39264c5",
   "metadata": {},
   "outputs": [
    {
     "name": "stdout",
     "output_type": "stream",
     "text": [
      "[\"\\x1b[34m\\x1b[1mdetect: \\x1b[0mweights=['best.pt'], source=test, data=data\\\\coco128.yaml, imgsz=[640, 640], conf_thres=0.2, iou_thres=0.45, max_det=1000, device=, view_img=False, save_txt=False, save_conf=False, save_crop=False, nosave=False, classes=None, agnostic_nms=False, augment=False, visualize=False, update=False, project=runs\\\\detect, name=exp, exist_ok=False, line_thickness=3, hide_labels=False, hide_conf=False, half=False, dnn=False, vid_stride=1\", 'YOLOv5  2022-11-2 Python-3.10.0 torch-1.13.0+cpu CPU', '', 'Fusing layers... ', 'Model summary: 157 layers, 1764577 parameters, 0 gradients, 4.1 GFLOPs', 'image 1/1 C:\\\\Users\\\\soham\\\\Desktop\\\\MU CV project\\\\yolov5\\\\test\\\\img1.jpg: 640x448 1 Watch, 181.8ms', 'Speed: 0.0ms pre-process, 181.8ms inference, 0.0ms NMS per image at shape (1, 3, 640, 640)', 'Results saved to \\x1b[1mruns\\\\detect\\\\exp28\\x1b[0m', '20.0', '58.0', '298.0', '408.0', \"[{'x1': 20.0, 'x2': 298.0, 'y1': 58.0, 'y2': 408.0}]\", 'Watch 0.71', \"['Watch']\"]\n"
     ]
    }
   ],
   "source": [
    "pp= !python detect.py --weights best.pt --img 640 --conf 0.2 --source test\n",
    "                \n",
    "print(pp)\n",
    "                "
   ]
  },
  {
   "cell_type": "code",
   "execution_count": 19,
   "id": "4ff97ec9",
   "metadata": {},
   "outputs": [
    {
     "data": {
      "text/plain": [
       "\"['Watch']\""
      ]
     },
     "execution_count": 19,
     "metadata": {},
     "output_type": "execute_result"
    }
   ],
   "source": [
    "pp[-1]"
   ]
  },
  {
   "cell_type": "code",
   "execution_count": null,
   "id": "8ae848c8",
   "metadata": {},
   "outputs": [],
   "source": []
  },
  {
   "cell_type": "markdown",
   "id": "e51950d7",
   "metadata": {},
   "source": [
    "## Text To Speech (TTS)"
   ]
  },
  {
   "cell_type": "code",
   "execution_count": 9,
   "id": "442925d7",
   "metadata": {
    "scrolled": true
   },
   "outputs": [
    {
     "name": "stdout",
     "output_type": "stream",
     "text": [
      "Requirement already satisfied: google-cloud-texttospeech in c:\\users\\soham\\anaconda3\\lib\\site-packages (2.12.3)\n",
      "Requirement already satisfied: protobuf!=3.20.0,!=3.20.1,!=4.21.0,!=4.21.1,!=4.21.2,!=4.21.3,!=4.21.4,!=4.21.5,<5.0.0dev,>=3.19.5 in c:\\users\\soham\\anaconda3\\lib\\site-packages (from google-cloud-texttospeech) (4.21.9)\n",
      "Requirement already satisfied: proto-plus<2.0.0dev,>=1.22.0 in c:\\users\\soham\\anaconda3\\lib\\site-packages (from google-cloud-texttospeech) (1.22.1)\n",
      "Requirement already satisfied: google-api-core[grpc]!=2.0.*,!=2.1.*,!=2.2.*,!=2.3.*,!=2.4.*,!=2.5.*,!=2.6.*,!=2.7.*,<3.0.0dev,>=1.32.0 in c:\\users\\soham\\anaconda3\\lib\\site-packages (from google-cloud-texttospeech) (2.10.2)\n",
      "Requirement already satisfied: requests<3.0.0dev,>=2.18.0 in c:\\users\\soham\\anaconda3\\lib\\site-packages (from google-api-core[grpc]!=2.0.*,!=2.1.*,!=2.2.*,!=2.3.*,!=2.4.*,!=2.5.*,!=2.6.*,!=2.7.*,<3.0.0dev,>=1.32.0->google-cloud-texttospeech) (2.26.0)\n",
      "Requirement already satisfied: google-auth<3.0dev,>=1.25.0 in c:\\users\\soham\\anaconda3\\lib\\site-packages (from google-api-core[grpc]!=2.0.*,!=2.1.*,!=2.2.*,!=2.3.*,!=2.4.*,!=2.5.*,!=2.6.*,!=2.7.*,<3.0.0dev,>=1.32.0->google-cloud-texttospeech) (2.6.2)\n",
      "Requirement already satisfied: googleapis-common-protos<2.0dev,>=1.56.2 in c:\\users\\soham\\anaconda3\\lib\\site-packages (from google-api-core[grpc]!=2.0.*,!=2.1.*,!=2.2.*,!=2.3.*,!=2.4.*,!=2.5.*,!=2.6.*,!=2.7.*,<3.0.0dev,>=1.32.0->google-cloud-texttospeech) (1.56.4)\n",
      "Requirement already satisfied: grpcio-status<2.0dev,>=1.33.2 in c:\\users\\soham\\anaconda3\\lib\\site-packages (from google-api-core[grpc]!=2.0.*,!=2.1.*,!=2.2.*,!=2.3.*,!=2.4.*,!=2.5.*,!=2.6.*,!=2.7.*,<3.0.0dev,>=1.32.0->google-cloud-texttospeech) (1.50.0)\n",
      "Requirement already satisfied: grpcio<2.0dev,>=1.33.2 in c:\\users\\soham\\anaconda3\\lib\\site-packages (from google-api-core[grpc]!=2.0.*,!=2.1.*,!=2.2.*,!=2.3.*,!=2.4.*,!=2.5.*,!=2.6.*,!=2.7.*,<3.0.0dev,>=1.32.0->google-cloud-texttospeech) (1.50.0)\n",
      "Requirement already satisfied: rsa<5,>=3.1.4 in c:\\users\\soham\\anaconda3\\lib\\site-packages (from google-auth<3.0dev,>=1.25.0->google-api-core[grpc]!=2.0.*,!=2.1.*,!=2.2.*,!=2.3.*,!=2.4.*,!=2.5.*,!=2.6.*,!=2.7.*,<3.0.0dev,>=1.32.0->google-cloud-texttospeech) (4.8)\n",
      "Requirement already satisfied: six>=1.9.0 in c:\\users\\soham\\anaconda3\\lib\\site-packages (from google-auth<3.0dev,>=1.25.0->google-api-core[grpc]!=2.0.*,!=2.1.*,!=2.2.*,!=2.3.*,!=2.4.*,!=2.5.*,!=2.6.*,!=2.7.*,<3.0.0dev,>=1.32.0->google-cloud-texttospeech) (1.16.0)\n",
      "Requirement already satisfied: pyasn1-modules>=0.2.1 in c:\\users\\soham\\anaconda3\\lib\\site-packages (from google-auth<3.0dev,>=1.25.0->google-api-core[grpc]!=2.0.*,!=2.1.*,!=2.2.*,!=2.3.*,!=2.4.*,!=2.5.*,!=2.6.*,!=2.7.*,<3.0.0dev,>=1.32.0->google-cloud-texttospeech) (0.2.8)\n",
      "Requirement already satisfied: cachetools<6.0,>=2.0.0 in c:\\users\\soham\\anaconda3\\lib\\site-packages (from google-auth<3.0dev,>=1.25.0->google-api-core[grpc]!=2.0.*,!=2.1.*,!=2.2.*,!=2.3.*,!=2.4.*,!=2.5.*,!=2.6.*,!=2.7.*,<3.0.0dev,>=1.32.0->google-cloud-texttospeech) (5.0.0)\n",
      "Requirement already satisfied: pyasn1<0.5.0,>=0.4.6 in c:\\users\\soham\\anaconda3\\lib\\site-packages (from pyasn1-modules>=0.2.1->google-auth<3.0dev,>=1.25.0->google-api-core[grpc]!=2.0.*,!=2.1.*,!=2.2.*,!=2.3.*,!=2.4.*,!=2.5.*,!=2.6.*,!=2.7.*,<3.0.0dev,>=1.32.0->google-cloud-texttospeech) (0.4.8)\n",
      "Requirement already satisfied: charset-normalizer~=2.0.0 in c:\\users\\soham\\anaconda3\\lib\\site-packages (from requests<3.0.0dev,>=2.18.0->google-api-core[grpc]!=2.0.*,!=2.1.*,!=2.2.*,!=2.3.*,!=2.4.*,!=2.5.*,!=2.6.*,!=2.7.*,<3.0.0dev,>=1.32.0->google-cloud-texttospeech) (2.0.4)\n",
      "Requirement already satisfied: certifi>=2017.4.17 in c:\\users\\soham\\anaconda3\\lib\\site-packages (from requests<3.0.0dev,>=2.18.0->google-api-core[grpc]!=2.0.*,!=2.1.*,!=2.2.*,!=2.3.*,!=2.4.*,!=2.5.*,!=2.6.*,!=2.7.*,<3.0.0dev,>=1.32.0->google-cloud-texttospeech) (2022.9.24)\n",
      "Requirement already satisfied: idna<4,>=2.5 in c:\\users\\soham\\anaconda3\\lib\\site-packages (from requests<3.0.0dev,>=2.18.0->google-api-core[grpc]!=2.0.*,!=2.1.*,!=2.2.*,!=2.3.*,!=2.4.*,!=2.5.*,!=2.6.*,!=2.7.*,<3.0.0dev,>=1.32.0->google-cloud-texttospeech) (3.2)\n",
      "Requirement already satisfied: urllib3<1.27,>=1.21.1 in c:\\users\\soham\\anaconda3\\lib\\site-packages (from requests<3.0.0dev,>=2.18.0->google-api-core[grpc]!=2.0.*,!=2.1.*,!=2.2.*,!=2.3.*,!=2.4.*,!=2.5.*,!=2.6.*,!=2.7.*,<3.0.0dev,>=1.32.0->google-cloud-texttospeech) (1.26.7)\n",
      "Note: you may need to restart the kernel to use updated packages.\n"
     ]
    },
    {
     "name": "stderr",
     "output_type": "stream",
     "text": [
      "WARNING: Ignoring invalid distribution -rotobuf (c:\\users\\soham\\anaconda3\\lib\\site-packages)\n",
      "WARNING: Ignoring invalid distribution -pencv-python (c:\\users\\soham\\anaconda3\\lib\\site-packages)\n",
      "WARNING: Ignoring invalid distribution -rotobuf (c:\\users\\soham\\anaconda3\\lib\\site-packages)\n",
      "WARNING: Ignoring invalid distribution -pencv-python (c:\\users\\soham\\anaconda3\\lib\\site-packages)\n",
      "WARNING: Ignoring invalid distribution -rotobuf (c:\\users\\soham\\anaconda3\\lib\\site-packages)\n",
      "WARNING: Ignoring invalid distribution -pencv-python (c:\\users\\soham\\anaconda3\\lib\\site-packages)\n",
      "WARNING: Ignoring invalid distribution -rotobuf (c:\\users\\soham\\anaconda3\\lib\\site-packages)\n",
      "WARNING: Ignoring invalid distribution -pencv-python (c:\\users\\soham\\anaconda3\\lib\\site-packages)\n",
      "WARNING: Ignoring invalid distribution -rotobuf (c:\\users\\soham\\anaconda3\\lib\\site-packages)\n",
      "WARNING: Ignoring invalid distribution -pencv-python (c:\\users\\soham\\anaconda3\\lib\\site-packages)\n",
      "WARNING: Ignoring invalid distribution -rotobuf (c:\\users\\soham\\anaconda3\\lib\\site-packages)\n",
      "WARNING: Ignoring invalid distribution -pencv-python (c:\\users\\soham\\anaconda3\\lib\\site-packages)\n"
     ]
    }
   ],
   "source": [
    "pip install google-cloud-texttospeech"
   ]
  },
  {
   "cell_type": "code",
   "execution_count": 7,
   "id": "851e31ac",
   "metadata": {},
   "outputs": [
    {
     "name": "stdout",
     "output_type": "stream",
     "text": [
      "<bound method TextToSpeechClient.list_voices of <google.cloud.texttospeech_v1.services.text_to_speech.client.TextToSpeechClient object at 0x00000201BC8F68B0>>\n"
     ]
    },
    {
     "data": {
      "text/html": [
       "\n",
       "                <audio  controls=\"controls\" >\n",
       "                    <source src=\"data:audio/mpeg;base64,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\" type=\"audio/mpeg\" />\n",
       "                    Your browser does not support the audio element.\n",
       "                </audio>\n",
       "              "
      ],
      "text/plain": [
       "<IPython.lib.display.Audio object>"
      ]
     },
     "execution_count": 7,
     "metadata": {},
     "output_type": "execute_result"
    }
   ],
   "source": [
    "import os\n",
    "from unicodedata import name\n",
    "from urllib import response\n",
    "from google.cloud import texttospeech_v1\n",
    "import IPython\n",
    "\n",
    "client = texttospeech_v1.TextToSpeechClient()\n",
    "\n",
    "text = '''<speak> Hi. Your phone is on the ppeed</speak>'''\n",
    "\n",
    "# Lets functionalize this\n",
    "\n",
    "def text_to_speech(text):\n",
    "\n",
    "    synthesis_input = texttospeech_v1.SynthesisInput(ssml=text)\n",
    "\n",
    "    voice1 = texttospeech_v1.VoiceSelectionParams(\n",
    "        language_code = 'en-in',\n",
    "        ssml_gender = texttospeech_v1.SsmlVoiceGender.FEMALE\n",
    "    )\n",
    "\n",
    "    print(client.list_voices)\n",
    "    audio_config = texttospeech_v1.AudioConfig(\n",
    "        audio_encoding = texttospeech_v1.AudioEncoding.MP3\n",
    "    )\n",
    "\n",
    "    response1 = client.synthesize_speech(\n",
    "            input = synthesis_input,\n",
    "            voice = voice1,\n",
    "            audio_config =audio_config\n",
    "    )\n",
    "\n",
    "    with open('Audio.mp3','wb',) as output:\n",
    "        output.write(response1.audio_content)\n",
    "\n",
    "    \n",
    "text_to_speech(text)\n",
    "\n",
    "\n",
    "IPython.display.Audio(\"Audio.mp3\")"
   ]
  },
  {
   "cell_type": "code",
   "execution_count": null,
   "id": "9c8f70b8",
   "metadata": {},
   "outputs": [],
   "source": []
  },
  {
   "cell_type": "code",
   "execution_count": null,
   "id": "ae13fcec",
   "metadata": {},
   "outputs": [],
   "source": []
  },
  {
   "cell_type": "code",
   "execution_count": null,
   "id": "c089cf14",
   "metadata": {},
   "outputs": [],
   "source": []
  },
  {
   "cell_type": "code",
   "execution_count": 18,
   "id": "cc5e37cb",
   "metadata": {},
   "outputs": [
    {
     "ename": "ModuleNotFoundError",
     "evalue": "No module named 'speech_recognition'",
     "output_type": "error",
     "traceback": [
      "\u001b[1;31m---------------------------------------------------------------------------\u001b[0m",
      "\u001b[1;31mModuleNotFoundError\u001b[0m                       Traceback (most recent call last)",
      "\u001b[1;32m~\\AppData\\Local\\Temp/ipykernel_18648/967125782.py\u001b[0m in \u001b[0;36m<module>\u001b[1;34m\u001b[0m\n\u001b[1;32m----> 1\u001b[1;33m \u001b[1;32mimport\u001b[0m \u001b[0mspeech_recognition\u001b[0m \u001b[1;32mas\u001b[0m \u001b[0msr\u001b[0m\u001b[1;33m\u001b[0m\u001b[1;33m\u001b[0m\u001b[0m\n\u001b[0m",
      "\u001b[1;31mModuleNotFoundError\u001b[0m: No module named 'speech_recognition'"
     ]
    }
   ],
   "source": [
    "import speech_recognition as sr"
   ]
  },
  {
   "cell_type": "code",
   "execution_count": 19,
   "id": "b0684572",
   "metadata": {},
   "outputs": [],
   "source": [
    "import detect\n"
   ]
  },
  {
   "cell_type": "code",
   "execution_count": 21,
   "id": "2acf1700",
   "metadata": {},
   "outputs": [
    {
     "name": "stderr",
     "output_type": "stream",
     "text": [
      "YOLOv5  2022-11-2 Python-3.9.7 torch-1.12.1+cpu CPU\n",
      "\n",
      "Fusing layers... \n",
      "Model summary: 157 layers, 1764577 parameters, 0 gradients, 4.1 GFLOPs\n",
      "image 1/1 C:\\Users\\soham\\Desktop\\MU CV project\\yolov5\\test\\img1.jpg: 416x640 3 Watchs, 1 Bed, 151.5ms\n",
      "Speed: 1.0ms pre-process, 151.5ms inference, 1.5ms NMS per image at shape (1, 3, 640, 640)\n",
      "Results saved to \u001b[1mruns\\detect\\exp201\u001b[0m\n"
     ]
    },
    {
     "name": "stdout",
     "output_type": "stream",
     "text": [
      "335.0\n",
      "228.0\n",
      "400.0\n",
      "297.0\n",
      "[{'x1': 335.0, 'x2': 400.0, 'y1': 228.0, 'y2': 297.0, 'name': 'Watch'}]\n",
      "Watch 0.13\n",
      "256.0\n",
      "219.0\n",
      "391.0\n",
      "289.0\n",
      "[{'x1': 335.0, 'x2': 400.0, 'y1': 228.0, 'y2': 297.0, 'name': 'Watch'}, {'x1': 256.0, 'x2': 391.0, 'y1': 219.0, 'y2': 289.0, 'name': 'Watch'}]\n",
      "Watch 0.18\n",
      "0.0\n",
      "0.0\n",
      "624.0\n",
      "329.0\n",
      "[{'x1': 335.0, 'x2': 400.0, 'y1': 228.0, 'y2': 297.0, 'name': 'Watch'}, {'x1': 256.0, 'x2': 391.0, 'y1': 219.0, 'y2': 289.0, 'name': 'Watch'}, {'x1': 0.0, 'x2': 624.0, 'y1': 0.0, 'y2': 329.0, 'name': 'Bed'}]\n",
      "Bed 0.39\n",
      "285.0\n",
      "214.0\n",
      "330.0\n",
      "284.0\n",
      "[{'x1': 335.0, 'x2': 400.0, 'y1': 228.0, 'y2': 297.0, 'name': 'Watch'}, {'x1': 256.0, 'x2': 391.0, 'y1': 219.0, 'y2': 289.0, 'name': 'Watch'}, {'x1': 0.0, 'x2': 624.0, 'y1': 0.0, 'y2': 329.0, 'name': 'Bed'}, {'x1': 285.0, 'x2': 330.0, 'y1': 214.0, 'y2': 284.0, 'name': 'Watch'}]\n",
      "Watch 0.51\n",
      "hello\n",
      "######\n",
      "{'Watch': 'Bed', 'Bed': 'Watch'}\n",
      "['Watch', 'Watch', 'Bed', 'Watch']\n"
     ]
    }
   ],
   "source": [
    "otput = detect.run()"
   ]
  },
  {
   "cell_type": "code",
   "execution_count": 23,
   "id": "cf32bc7c",
   "metadata": {},
   "outputs": [
    {
     "data": {
      "text/plain": [
       "tuple"
      ]
     },
     "execution_count": 23,
     "metadata": {},
     "output_type": "execute_result"
    }
   ],
   "source": [
    "type(otput)"
   ]
  },
  {
   "cell_type": "code",
   "execution_count": 27,
   "id": "8e51a542",
   "metadata": {},
   "outputs": [
    {
     "data": {
      "text/plain": [
       "['Watch', 'Watch', 'Bed', 'Watch']"
      ]
     },
     "execution_count": 27,
     "metadata": {},
     "output_type": "execute_result"
    }
   ],
   "source": [
    "otput[-1]"
   ]
  },
  {
   "cell_type": "code",
   "execution_count": null,
   "id": "59cf99be",
   "metadata": {},
   "outputs": [],
   "source": []
  }
 ],
 "metadata": {
  "kernelspec": {
   "display_name": "Python 3 (ipykernel)",
   "language": "python",
   "name": "python3"
  },
  "language_info": {
   "codemirror_mode": {
    "name": "ipython",
    "version": 3
   },
   "file_extension": ".py",
   "mimetype": "text/x-python",
   "name": "python",
   "nbconvert_exporter": "python",
   "pygments_lexer": "ipython3",
   "version": "3.9.7"
  }
 },
 "nbformat": 4,
 "nbformat_minor": 5
}
