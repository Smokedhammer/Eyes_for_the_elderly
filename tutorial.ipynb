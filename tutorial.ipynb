{
 "cells": [
  {
   "cell_type": "markdown",
   "metadata": {
    "id": "t6MPjfT5NrKQ"
   },
   "source": [
    "<div align=\"center\">\n",
    "\n",
    "  <a href=\"https://ultralytics.com/yolov5\" target=\"_blank\">\n",
    "    <img width=\"1024\", src=\"https://github.com/ultralytics/assets/raw/master/yolov5/v62/splash_readme.png\"></a>\n",
    "\n",
    "\n",
    "<br>\n",
    "  <a href=\"https://bit.ly/yolov5-paperspace-notebook\"><img src=\"https://assets.paperspace.io/img/gradient-badge.svg\" alt=\"Run on Gradient\"></a>\n",
    "  <a href=\"https://colab.research.google.com/github/ultralytics/yolov5/blob/master/tutorial.ipynb\"><img src=\"https://colab.research.google.com/assets/colab-badge.svg\" alt=\"Open In Colab\"></a>\n",
    "  <a href=\"https://www.kaggle.com/ultralytics/yolov5\"><img src=\"https://kaggle.com/static/images/open-in-kaggle.svg\" alt=\"Open In Kaggle\"></a>\n",
    "<br>\n",
    "\n",
    "This <a href=\"https://github.com/ultralytics/yolov5\">YOLOv5</a> 🚀 notebook by <a href=\"https://ultralytics.com\">Ultralytics</a> presents simple train, validate and predict examples to help start your AI adventure.<br>See <a href=\"https://github.com/ultralytics/yolov5/issues/new/choose\">GitHub</a> for community support or <a href=\"https://ultralytics.com/contact\">contact us</a> for professional support.\n",
    "\n",
    "</div>"
   ]
  },
  {
   "cell_type": "markdown",
   "metadata": {
    "id": "7mGmQbAO5pQb"
   },
   "source": [
    "# Setup\n",
    "\n",
    "Clone GitHub [repository](https://github.com/ultralytics/yolov5), install [dependencies](https://github.com/ultralytics/yolov5/blob/master/requirements.txt) and check PyTorch and GPU."
   ]
  },
  {
   "cell_type": "code",
   "execution_count": 6,
   "metadata": {
    "colab": {
     "base_uri": "https://localhost:8080/"
    },
    "id": "wbvMlHd_QwMG",
    "outputId": "0f9ee467-cea4-48e8-9050-7a76ae1b6141",
    "scrolled": true
   },
   "outputs": [
    {
     "name": "stderr",
     "output_type": "stream",
     "text": [
      "YOLOv5  566ed63 Python-3.9.7 torch-1.12.1+cpu CPU\n"
     ]
    },
    {
     "name": "stdout",
     "output_type": "stream",
     "text": [
      "Setup complete  (8 CPUs, 7.9 GB RAM, 532.8/930.7 GB disk)\n"
     ]
    }
   ],
   "source": [
    "#!git clone https://github.com/ultralytics/yolov5  # clone\n",
    "#%cd yolov5\n",
    "%pip install -qr requirements.txt  # install\n",
    "\n",
    "import torch\n",
    "import utils\n",
    "display = utils.notebook_init()  # checks"
   ]
  },
  {
   "cell_type": "code",
   "execution_count": null,
   "metadata": {},
   "outputs": [],
   "source": [
    "!python train.py --img 640 --batch 8 --epochs 200 --data custom1.yaml --weights yolov5n.pt --cache"
   ]
  },
  {
   "cell_type": "markdown",
   "metadata": {
    "id": "4JnkELT0cIJg"
   },
   "source": [
    "# 1. Detect\n",
    "\n",
    "`detect.py` runs YOLOv5 inference on a variety of sources, downloading models automatically from the [latest YOLOv5 release](https://github.com/ultralytics/yolov5/releases), and saving results to `runs/detect`. Example inference sources are:\n",
    "\n",
    "```shell\n",
    "python detect.py --source 0  # webcam\n",
    "                          img.jpg  # image \n",
    "                          vid.mp4  # video\n",
    "                          screen  # screenshot\n",
    "                          path/  # directory\n",
    "                          'path/*.jpg'  # glob\n",
    "                          'https://youtu.be/Zgi9g1ksQHc'  # YouTube\n",
    "                          'rtsp://example.com/media.mp4'  # RTSP, RTMP, HTTP stream\n",
    "```"
   ]
  },
  {
   "cell_type": "code",
   "execution_count": 2,
   "metadata": {},
   "outputs": [],
   "source": [
    "import torch"
   ]
  },
  {
   "cell_type": "code",
   "execution_count": 3,
   "metadata": {},
   "outputs": [],
   "source": [
    "import detect"
   ]
  },
  {
   "cell_type": "code",
   "execution_count": 8,
   "metadata": {
    "colab": {
     "base_uri": "https://localhost:8080/"
    },
    "id": "zR9ZbuQCH7FX",
    "outputId": "60647b99-e8d4-402c-f444-331bf6746da4"
   },
   "outputs": [],
   "source": [
    "pp= !python detect.py --weights best.pt --img 640 --conf 0.15 --source test\n",
    "\n",
    "\n"
   ]
  },
  {
   "cell_type": "code",
   "execution_count": 6,
   "metadata": {},
   "outputs": [
    {
     "name": "stderr",
     "output_type": "stream",
     "text": [
      "YOLOv5  566ed63 Python-3.9.7 torch-1.12.1+cpu CPU\n",
      "\n",
      "Fusing layers... \n",
      "Model summary: 157 layers, 1769989 parameters, 0 gradients\n"
     ]
    },
    {
     "name": "stdout",
     "output_type": "stream",
     "text": [
      "962.0\n",
      "2780.0\n",
      "1586.0\n",
      "3279.0\n",
      "[{'x1': 962.0, 'x2': 1586.0, 'y1': 2780.0, 'y2': 3279.0, 'name': 'Mobile phone'}]\n",
      "Mobile phone 0.29\n",
      "hello\n"
     ]
    },
    {
     "name": "stderr",
     "output_type": "stream",
     "text": [
      "image 1/1 C:\\Users\\soham\\OneDrive\\Desktop\\yolov5\\test\\IMG_20230315_181750.jpg: 640x480 1 Mobile phone, 204.6ms\n",
      "Speed: 0.0ms pre-process, 204.6ms inference, 0.0ms NMS per image at shape (1, 3, 640, 640)\n",
      "Results saved to \u001b[1mruns\\detect\\exp287\u001b[0m\n"
     ]
    },
    {
     "name": "stdout",
     "output_type": "stream",
     "text": [
      "######\n",
      "{}\n",
      "['Mobile phone']\n"
     ]
    }
   ],
   "source": [
    "pp = detect.run()"
   ]
  },
  {
   "cell_type": "code",
   "execution_count": null,
   "metadata": {},
   "outputs": [],
   "source": []
  },
  {
   "cell_type": "code",
   "execution_count": null,
   "metadata": {},
   "outputs": [],
   "source": []
  },
  {
   "cell_type": "code",
   "execution_count": 8,
   "metadata": {},
   "outputs": [
    {
     "name": "stderr",
     "output_type": "stream",
     "text": [
      "\u001b[34m\u001b[1mval: \u001b[0mdata=data\\coco128.yaml, weights=yolov5s.pt, batch_size=32, imgsz=640, conf_thres=0.001, iou_thres=0.6, max_det=300, task=val, device=, workers=8, single_cls=False, augment=False, verbose=True, save_txt=False, save_hybrid=False, save_conf=False, save_json=False, project=runs\\val, name=exp, exist_ok=False, half=False, dnn=False\n",
      "YOLOv5  4717cc0 Python-3.10.0 torch-1.13.1+cpu CPU\n",
      "\n",
      "Downloading https://github.com/ultralytics/yolov5/releases/download/v6.2/yolov5s.pt to yolov5s.pt...\n",
      "\n",
      "  0%|          | 0.00/14.1M [00:00<?, ?B/s]\n",
      "  5%|5         | 736k/14.1M [00:00<00:02, 6.72MB/s]\n",
      " 12%|#1        | 1.66M/14.1M [00:00<00:01, 8.46MB/s]\n",
      " 18%|#7        | 2.48M/14.1M [00:00<00:02, 5.90MB/s]\n",
      " 25%|##5       | 3.57M/14.1M [00:00<00:01, 7.41MB/s]\n",
      " 31%|###       | 4.35M/14.1M [00:00<00:01, 7.41MB/s]\n",
      " 36%|###6      | 5.11M/14.1M [00:00<00:01, 7.04MB/s]\n",
      " 41%|####1     | 5.81M/14.1M [00:00<00:01, 5.92MB/s]\n",
      " 45%|####5     | 6.42M/14.1M [00:01<00:01, 5.87MB/s]\n",
      " 51%|#####     | 7.18M/14.1M [00:01<00:01, 6.24MB/s]\n",
      " 57%|#####7    | 8.12M/14.1M [00:01<00:00, 7.00MB/s]\n",
      " 62%|######2   | 8.81M/14.1M [00:01<00:00, 6.90MB/s]\n",
      " 67%|######7   | 9.49M/14.1M [00:01<00:00, 6.77MB/s]\n",
      " 72%|#######1  | 10.2M/14.1M [00:01<00:00, 6.68MB/s]\n",
      " 77%|#######6  | 10.9M/14.1M [00:01<00:00, 6.64MB/s]\n",
      " 82%|########1 | 11.5M/14.1M [00:01<00:00, 6.63MB/s]\n",
      " 86%|########6 | 12.2M/14.1M [00:01<00:00, 6.59MB/s]\n",
      " 91%|######### | 12.8M/14.1M [00:02<00:00, 6.57MB/s]\n",
      " 96%|#########5| 13.5M/14.1M [00:02<00:00, 6.54MB/s]\n",
      "100%|##########| 14.1M/14.1M [00:02<00:00, 6.67MB/s]\n",
      "\n",
      "Fusing layers... \n",
      "YOLOv5s summary: 213 layers, 7225885 parameters, 0 gradients\n",
      "\n",
      "Dataset not found , missing paths ['C:\\\\Users\\\\soham\\\\OneDrive\\\\Desktop\\\\datasets\\\\coco128\\\\images\\\\train2017']\n",
      "Downloading https://ultralytics.com/assets/coco128.zip to coco128.zip...\n",
      "\n",
      "  0%|          | 0.00/6.66M [00:00<?, ?B/s]\n",
      " 13%|#3        | 896k/6.66M [00:00<00:00, 8.31MB/s]\n",
      " 28%|##8       | 1.89M/6.66M [00:00<00:00, 9.09MB/s]\n",
      " 41%|####1     | 2.76M/6.66M [00:00<00:00, 7.75MB/s]\n",
      " 53%|#####2    | 3.52M/6.66M [00:00<00:00, 7.33MB/s]\n",
      " 63%|######3   | 4.23M/6.66M [00:00<00:00, 7.03MB/s]\n",
      " 74%|#######3  | 4.91M/6.66M [00:00<00:00, 5.65MB/s]\n",
      " 83%|########3 | 5.55M/6.66M [00:00<00:00, 5.68MB/s]\n",
      " 95%|#########4| 6.31M/6.66M [00:00<00:00, 6.28MB/s]\n",
      "100%|##########| 6.66M/6.66M [00:01<00:00, 6.74MB/s]\n",
      "Dataset download success  (2.7s), saved to \u001b[1mC:\\Users\\soham\\OneDrive\\Desktop\\datasets\u001b[0m\n",
      "\n",
      "\u001b[34m\u001b[1mval: \u001b[0mScanning 'C:\\Users\\soham\\OneDrive\\Desktop\\datasets\\coco128\\labels\\train2017' images and labels...:   0%|          | 0/128 [00:00<?, ?it/s]\n",
      "\u001b[34m\u001b[1mval: \u001b[0mScanning 'C:\\Users\\soham\\OneDrive\\Desktop\\datasets\\coco128\\labels\\train2017' images and labels...1 found, 0 missing, 0 empty, 0 corrupt:   1%|          | 1/128 [00:23<49:56, 23.60s/it]\n",
      "\u001b[34m\u001b[1mval: \u001b[0mScanning 'C:\\Users\\soham\\OneDrive\\Desktop\\datasets\\coco128\\labels\\train2017' images and labels...4 found, 0 missing, 0 empty, 0 corrupt:   3%|3         | 4/128 [00:23<09:17,  4.50s/it]\n",
      "\u001b[34m\u001b[1mval: \u001b[0mScanning 'C:\\Users\\soham\\OneDrive\\Desktop\\datasets\\coco128\\labels\\train2017' images and labels...8 found, 0 missing, 0 empty, 0 corrupt:   6%|6         | 8/128 [00:23<03:34,  1.79s/it]\n",
      "\u001b[34m\u001b[1mval: \u001b[0mScanning 'C:\\Users\\soham\\OneDrive\\Desktop\\datasets\\coco128\\labels\\train2017' images and labels...12 found, 0 missing, 0 empty, 0 corrupt:   9%|9         | 12/128 [00:23<01:52,  1.03it/s]\n",
      "\u001b[34m\u001b[1mval: \u001b[0mScanning 'C:\\Users\\soham\\OneDrive\\Desktop\\datasets\\coco128\\labels\\train2017' images and labels...17 found, 0 missing, 0 empty, 0 corrupt:  13%|#3        | 17/128 [00:24<01:00,  1.85it/s]\n",
      "\u001b[34m\u001b[1mval: \u001b[0mScanning 'C:\\Users\\soham\\OneDrive\\Desktop\\datasets\\coco128\\labels\\train2017' images and labels...22 found, 0 missing, 0 empty, 0 corrupt:  17%|#7        | 22/128 [00:24<00:36,  2.93it/s]\n",
      "\u001b[34m\u001b[1mval: \u001b[0mScanning 'C:\\Users\\soham\\OneDrive\\Desktop\\datasets\\coco128\\labels\\train2017' images and labels...26 found, 0 missing, 0 empty, 0 corrupt:  20%|##        | 26/128 [00:24<00:24,  4.12it/s]\n",
      "\u001b[34m\u001b[1mval: \u001b[0mScanning 'C:\\Users\\soham\\OneDrive\\Desktop\\datasets\\coco128\\labels\\train2017' images and labels...30 found, 0 missing, 0 empty, 0 corrupt:  23%|##3       | 30/128 [00:24<00:17,  5.68it/s]\n",
      "\u001b[34m\u001b[1mval: \u001b[0mScanning 'C:\\Users\\soham\\OneDrive\\Desktop\\datasets\\coco128\\labels\\train2017' images and labels...34 found, 0 missing, 0 empty, 0 corrupt:  27%|##6       | 34/128 [00:24<00:12,  7.49it/s]\n",
      "\u001b[34m\u001b[1mval: \u001b[0mScanning 'C:\\Users\\soham\\OneDrive\\Desktop\\datasets\\coco128\\labels\\train2017' images and labels...38 found, 0 missing, 0 empty, 0 corrupt:  30%|##9       | 38/128 [00:24<00:10,  8.98it/s]\n",
      "\u001b[34m\u001b[1mval: \u001b[0mScanning 'C:\\Users\\soham\\OneDrive\\Desktop\\datasets\\coco128\\labels\\train2017' images and labels...41 found, 0 missing, 0 empty, 0 corrupt:  32%|###2      | 41/128 [00:24<00:08, 10.60it/s]\n",
      "\u001b[34m\u001b[1mval: \u001b[0mScanning 'C:\\Users\\soham\\OneDrive\\Desktop\\datasets\\coco128\\labels\\train2017' images and labels...45 found, 1 missing, 0 empty, 0 corrupt:  36%|###5      | 46/128 [00:25<00:05, 14.55it/s]\n",
      "\u001b[34m\u001b[1mval: \u001b[0mScanning 'C:\\Users\\soham\\OneDrive\\Desktop\\datasets\\coco128\\labels\\train2017' images and labels...49 found, 1 missing, 0 empty, 0 corrupt:  39%|###9      | 50/128 [00:25<00:04, 17.29it/s]\n",
      "\u001b[34m\u001b[1mval: \u001b[0mScanning 'C:\\Users\\soham\\OneDrive\\Desktop\\datasets\\coco128\\labels\\train2017' images and labels...53 found, 1 missing, 0 empty, 0 corrupt:  42%|####2     | 54/128 [00:25<00:03, 19.60it/s]\n",
      "\u001b[34m\u001b[1mval: \u001b[0mScanning 'C:\\Users\\soham\\OneDrive\\Desktop\\datasets\\coco128\\labels\\train2017' images and labels...57 found, 1 missing, 0 empty, 0 corrupt:  45%|####5     | 58/128 [00:25<00:03, 22.14it/s]\n",
      "\u001b[34m\u001b[1mval: \u001b[0mScanning 'C:\\Users\\soham\\OneDrive\\Desktop\\datasets\\coco128\\labels\\train2017' images and labels...61 found, 1 missing, 0 empty, 0 corrupt:  48%|####8     | 62/128 [00:25<00:02, 24.36it/s]\n",
      "\u001b[34m\u001b[1mval: \u001b[0mScanning 'C:\\Users\\soham\\OneDrive\\Desktop\\datasets\\coco128\\labels\\train2017' images and labels...65 found, 1 missing, 0 empty, 0 corrupt:  52%|#####1    | 66/128 [00:25<00:02, 23.29it/s]\n",
      "\u001b[34m\u001b[1mval: \u001b[0mScanning 'C:\\Users\\soham\\OneDrive\\Desktop\\datasets\\coco128\\labels\\train2017' images and labels...69 found, 1 missing, 0 empty, 0 corrupt:  55%|#####4    | 70/128 [00:25<00:02, 25.68it/s]\n",
      "\u001b[34m\u001b[1mval: \u001b[0mScanning 'C:\\Users\\soham\\OneDrive\\Desktop\\datasets\\coco128\\labels\\train2017' images and labels...72 found, 1 missing, 0 empty, 0 corrupt:  57%|#####7    | 73/128 [00:26<00:02, 25.81it/s]\n",
      "\u001b[34m\u001b[1mval: \u001b[0mScanning 'C:\\Users\\soham\\OneDrive\\Desktop\\datasets\\coco128\\labels\\train2017' images and labels...75 found, 1 missing, 0 empty, 0 corrupt:  59%|#####9    | 76/128 [00:26<00:01, 26.50it/s]\n",
      "\u001b[34m\u001b[1mval: \u001b[0mScanning 'C:\\Users\\soham\\OneDrive\\Desktop\\datasets\\coco128\\labels\\train2017' images and labels...78 found, 1 missing, 0 empty, 0 corrupt:  62%|######1   | 79/128 [00:26<00:01, 26.62it/s]\n",
      "\u001b[34m\u001b[1mval: \u001b[0mScanning 'C:\\Users\\soham\\OneDrive\\Desktop\\datasets\\coco128\\labels\\train2017' images and labels...81 found, 1 missing, 0 empty, 0 corrupt:  64%|######4   | 82/128 [00:26<00:01, 23.24it/s]\n",
      "\u001b[34m\u001b[1mval: \u001b[0mScanning 'C:\\Users\\soham\\OneDrive\\Desktop\\datasets\\coco128\\labels\\train2017' images and labels...84 found, 1 missing, 0 empty, 0 corrupt:  66%|######6   | 85/128 [00:26<00:02, 21.20it/s]\n",
      "\u001b[34m\u001b[1mval: \u001b[0mScanning 'C:\\Users\\soham\\OneDrive\\Desktop\\datasets\\coco128\\labels\\train2017' images and labels...87 found, 1 missing, 0 empty, 0 corrupt:  69%|######8   | 88/128 [00:26<00:01, 21.94it/s]\n",
      "\u001b[34m\u001b[1mval: \u001b[0mScanning 'C:\\Users\\soham\\OneDrive\\Desktop\\datasets\\coco128\\labels\\train2017' images and labels...90 found, 1 missing, 0 empty, 0 corrupt:  71%|#######1  | 91/128 [00:26<00:01, 23.25it/s]\n",
      "\u001b[34m\u001b[1mval: \u001b[0mScanning 'C:\\Users\\soham\\OneDrive\\Desktop\\datasets\\coco128\\labels\\train2017' images and labels...94 found, 2 missing, 0 empty, 0 corrupt:  75%|#######5  | 96/128 [00:26<00:01, 27.88it/s]\n",
      "\u001b[34m\u001b[1mval: \u001b[0mScanning 'C:\\Users\\soham\\OneDrive\\Desktop\\datasets\\coco128\\labels\\train2017' images and labels...98 found, 2 missing, 0 empty, 0 corrupt:  78%|#######8  | 100/128 [00:27<00:00, 30.29it/s]\n",
      "\u001b[34m\u001b[1mval: \u001b[0mScanning 'C:\\Users\\soham\\OneDrive\\Desktop\\datasets\\coco128\\labels\\train2017' images and labels...102 found, 2 missing, 0 empty, 0 corrupt:  81%|########1 | 104/128 [00:27<00:00, 27.59it/s]\n",
      "\u001b[34m\u001b[1mval: \u001b[0mScanning 'C:\\Users\\soham\\OneDrive\\Desktop\\datasets\\coco128\\labels\\train2017' images and labels...105 found, 2 missing, 0 empty, 0 corrupt:  84%|########3 | 107/128 [00:27<00:00, 27.78it/s]\n",
      "\u001b[34m\u001b[1mval: \u001b[0mScanning 'C:\\Users\\soham\\OneDrive\\Desktop\\datasets\\coco128\\labels\\train2017' images and labels...108 found, 2 missing, 0 empty, 0 corrupt:  86%|########5 | 110/128 [00:27<00:00, 28.16it/s]\n",
      "\u001b[34m\u001b[1mval: \u001b[0mScanning 'C:\\Users\\soham\\OneDrive\\Desktop\\datasets\\coco128\\labels\\train2017' images and labels...111 found, 2 missing, 0 empty, 0 corrupt:  88%|########8 | 113/128 [00:27<00:00, 25.42it/s]\n",
      "\u001b[34m\u001b[1mval: \u001b[0mScanning 'C:\\Users\\soham\\OneDrive\\Desktop\\datasets\\coco128\\labels\\train2017' images and labels...115 found, 2 missing, 0 empty, 0 corrupt:  91%|#########1| 117/128 [00:27<00:00, 27.70it/s]\n",
      "\u001b[34m\u001b[1mval: \u001b[0mScanning 'C:\\Users\\soham\\OneDrive\\Desktop\\datasets\\coco128\\labels\\train2017' images and labels...118 found, 2 missing, 0 empty, 0 corrupt:  94%|#########3| 120/128 [00:27<00:00, 28.17it/s]\n",
      "\u001b[34m\u001b[1mval: \u001b[0mScanning 'C:\\Users\\soham\\OneDrive\\Desktop\\datasets\\coco128\\labels\\train2017' images and labels...122 found, 2 missing, 0 empty, 0 corrupt:  97%|#########6| 124/128 [00:27<00:00, 30.58it/s]\n",
      "\u001b[34m\u001b[1mval: \u001b[0mScanning 'C:\\Users\\soham\\OneDrive\\Desktop\\datasets\\coco128\\labels\\train2017' images and labels...126 found, 2 missing, 0 empty, 0 corrupt: 100%|##########| 128/128 [00:28<00:00,  4.57it/s]\n",
      "\u001b[34m\u001b[1mval: \u001b[0mNew cache created: C:\\Users\\soham\\OneDrive\\Desktop\\datasets\\coco128\\labels\\train2017.cache\n",
      "\n",
      "                 Class     Images  Instances          P          R      mAP50   mAP50-95:   0%|          | 0/4 [00:00<?, ?it/s]Traceback (most recent call last):\n",
      "  File \"C:\\Users\\soham\\AppData\\Local\\Programs\\Python\\Python310\\lib\\multiprocessing\\queues.py\", line 245, in _feed\n",
      "    obj = _ForkingPickler.dumps(obj)\n",
      "  File \"C:\\Users\\soham\\AppData\\Local\\Programs\\Python\\Python310\\lib\\multiprocessing\\reduction.py\", line 51, in dumps\n",
      "    cls(buf, protocol).dump(obj)\n",
      "  File \"C:\\Users\\soham\\AppData\\Local\\Programs\\Python\\Python310\\lib\\site-packages\\torch\\multiprocessing\\reductions.py\", line 355, in reduce_storage\n",
      "    metadata = storage._share_filename_cpu_()\n",
      "RuntimeError: Couldn't open shared file mapping: <000001911AACB222>, error code: <1455>\n",
      "\n",
      "                 Class     Images  Instances          P          R      mAP50   mAP50-95:   0%|          | 0/4 [00:29<?, ?it/s]\n",
      "Traceback (most recent call last):\n",
      "  File \"C:\\Users\\soham\\AppData\\Local\\Programs\\Python\\Python310\\lib\\site-packages\\torch\\utils\\data\\dataloader.py\", line 1120, in _try_get_data\n",
      "    data = self._data_queue.get(timeout=timeout)\n",
      "  File \"C:\\Users\\soham\\AppData\\Local\\Programs\\Python\\Python310\\lib\\multiprocessing\\queues.py\", line 114, in get\n",
      "    raise Empty\n",
      "_queue.Empty\n",
      "\n",
      "The above exception was the direct cause of the following exception:\n",
      "\n",
      "Traceback (most recent call last):\n",
      "  File \"C:\\Users\\soham\\OneDrive\\Desktop\\yolov5\\val.py\", line 406, in <module>\n",
      "    main(opt)\n",
      "  File \"C:\\Users\\soham\\OneDrive\\Desktop\\yolov5\\val.py\", line 379, in main\n",
      "    run(**vars(opt))\n",
      "  File \"C:\\Users\\soham\\AppData\\Local\\Programs\\Python\\Python310\\lib\\site-packages\\torch\\autograd\\grad_mode.py\", line 27, in decorate_context\n",
      "    return func(*args, **kwargs)\n",
      "  File \"C:\\Users\\soham\\OneDrive\\Desktop\\yolov5\\val.py\", line 197, in run\n",
      "    for batch_i, (im, targets, paths, shapes) in enumerate(pbar):\n",
      "  File \"C:\\Users\\soham\\AppData\\Local\\Programs\\Python\\Python310\\lib\\site-packages\\tqdm\\std.py\", line 1195, in __iter__\n",
      "    for obj in iterable:\n",
      "  File \"C:\\Users\\soham\\OneDrive\\Desktop\\yolov5\\utils\\dataloaders.py\", line 171, in __iter__\n",
      "    yield next(self.iterator)\n",
      "  File \"C:\\Users\\soham\\AppData\\Local\\Programs\\Python\\Python310\\lib\\site-packages\\torch\\utils\\data\\dataloader.py\", line 628, in __next__\n",
      "    data = self._next_data()\n",
      "  File \"C:\\Users\\soham\\AppData\\Local\\Programs\\Python\\Python310\\lib\\site-packages\\torch\\utils\\data\\dataloader.py\", line 1316, in _next_data\n",
      "    idx, data = self._get_data()\n",
      "  File \"C:\\Users\\soham\\AppData\\Local\\Programs\\Python\\Python310\\lib\\site-packages\\torch\\utils\\data\\dataloader.py\", line 1282, in _get_data\n",
      "    success, data = self._try_get_data()\n",
      "  File \"C:\\Users\\soham\\AppData\\Local\\Programs\\Python\\Python310\\lib\\site-packages\\torch\\utils\\data\\dataloader.py\", line 1133, in _try_get_data\n",
      "    raise RuntimeError('DataLoader worker (pid(s) {}) exited unexpectedly'.format(pids_str)) from e\n",
      "RuntimeError: DataLoader worker (pid(s) 29032) exited unexpectedly\n"
     ]
    }
   ],
   "source": [
    "!python val.py --weights best1.pt --data custom1.yaml --task val"
   ]
  },
  {
   "cell_type": "markdown",
   "metadata": {
    "id": "0eq1SMWl6Sfn"
   },
   "source": [
    "# 2. Validate\n",
    "Validate a model's accuracy on the [COCO](https://cocodataset.org/#home) dataset's `val` or `test` splits. Models are downloaded automatically from the [latest YOLOv5 release](https://github.com/ultralytics/yolov5/releases). To show results by class use the `--verbose` flag."
   ]
  },
  {
   "cell_type": "code",
   "execution_count": null,
   "metadata": {
    "colab": {
     "base_uri": "https://localhost:8080/",
     "height": 49,
     "referenced_widgets": [
      "9b8caa3522fc4cbab31e13b5dfc7808d",
      "574140e4c4bc48c9a171541a02cd0211",
      "35e03ce5090346c9ae602891470fc555",
      "c942c208e72d46568b476bb0f2d75496",
      "65881db1db8a4e9c930fab9172d45143",
      "60b913d755b34d638478e30705a2dde1",
      "0856bea36ec148b68522ff9c9eb258d8",
      "76879f6f2aa54637a7a07faeea2bd684",
      "0ace3934ec6f4d36a1b3a9e086390926",
      "d6b7a2243e0c4beca714d99dceec23d6",
      "5966ba6e6f114d8c9d8d1d6b1bd4f4c7"
     ]
    },
    "id": "WQPtK1QYVaD_",
    "outputId": "102dabed-bc31-42fe-9133-d9ce28a2c01e"
   },
   "outputs": [
    {
     "data": {
      "application/vnd.jupyter.widget-view+json": {
       "model_id": "9b8caa3522fc4cbab31e13b5dfc7808d",
       "version_major": 2,
       "version_minor": 0
      },
      "text/plain": [
       "  0%|          | 0.00/780M [00:00<?, ?B/s]"
      ]
     },
     "metadata": {},
     "output_type": "display_data"
    }
   ],
   "source": [
    "# Download COCO val\n",
    "torch.hub.download_url_to_file('https://ultralytics.com/assets/coco2017val.zip', 'tmp.zip')  # download (780M - 5000 images)\n",
    "!unzip -q tmp.zip -d ../datasets && rm tmp.zip  # unzip"
   ]
  },
  {
   "cell_type": "code",
   "execution_count": null,
   "metadata": {
    "colab": {
     "base_uri": "https://localhost:8080/"
    },
    "id": "X58w8JLpMnjH",
    "outputId": "daf60b1b-b098-4657-c863-584f4c9cf078"
   },
   "outputs": [
    {
     "name": "stdout",
     "output_type": "stream",
     "text": [
      "\u001b[34m\u001b[1mval: \u001b[0mdata=/content/yolov5/data/coco.yaml, weights=['yolov5s.pt'], batch_size=32, imgsz=640, conf_thres=0.001, iou_thres=0.6, task=val, device=, workers=8, single_cls=False, augment=False, verbose=False, save_txt=False, save_hybrid=False, save_conf=False, save_json=True, project=runs/val, name=exp, exist_ok=False, half=True, dnn=False\n",
      "YOLOv5 🚀 v6.2-56-g30e674b Python-3.7.13 torch-1.12.1+cu113 CUDA:0 (Tesla V100-SXM2-16GB, 16160MiB)\n",
      "\n",
      "Fusing layers... \n",
      "YOLOv5s summary: 213 layers, 7225885 parameters, 0 gradients\n",
      "Downloading https://ultralytics.com/assets/Arial.ttf to /root/.config/Ultralytics/Arial.ttf...\n",
      "100% 755k/755k [00:00<00:00, 52.7MB/s]\n",
      "\u001b[34m\u001b[1mval: \u001b[0mScanning '/content/datasets/coco/val2017' images and labels...4952 found, 48 missing, 0 empty, 0 corrupt: 100% 5000/5000 [00:00<00:00, 10509.20it/s]\n",
      "\u001b[34m\u001b[1mval: \u001b[0mNew cache created: /content/datasets/coco/val2017.cache\n",
      "                 Class     Images  Instances          P          R     mAP@.5 mAP@.5:.95: 100% 157/157 [00:50<00:00,  3.10it/s]\n",
      "                   all       5000      36335       0.67      0.521      0.566      0.371\n",
      "Speed: 0.1ms pre-process, 1.0ms inference, 1.5ms NMS per image at shape (32, 3, 640, 640)\n",
      "\n",
      "Evaluating pycocotools mAP... saving runs/val/exp/yolov5s_predictions.json...\n",
      "loading annotations into memory...\n",
      "Done (t=0.81s)\n",
      "creating index...\n",
      "index created!\n",
      "Loading and preparing results...\n",
      "DONE (t=5.62s)\n",
      "creating index...\n",
      "index created!\n",
      "Running per image evaluation...\n",
      "Evaluate annotation type *bbox*\n",
      "DONE (t=77.03s).\n",
      "Accumulating evaluation results...\n",
      "DONE (t=14.63s).\n",
      " Average Precision  (AP) @[ IoU=0.50:0.95 | area=   all | maxDets=100 ] = 0.374\n",
      " Average Precision  (AP) @[ IoU=0.50      | area=   all | maxDets=100 ] = 0.572\n",
      " Average Precision  (AP) @[ IoU=0.75      | area=   all | maxDets=100 ] = 0.402\n",
      " Average Precision  (AP) @[ IoU=0.50:0.95 | area= small | maxDets=100 ] = 0.211\n",
      " Average Precision  (AP) @[ IoU=0.50:0.95 | area=medium | maxDets=100 ] = 0.423\n",
      " Average Precision  (AP) @[ IoU=0.50:0.95 | area= large | maxDets=100 ] = 0.489\n",
      " Average Recall     (AR) @[ IoU=0.50:0.95 | area=   all | maxDets=  1 ] = 0.311\n",
      " Average Recall     (AR) @[ IoU=0.50:0.95 | area=   all | maxDets= 10 ] = 0.516\n",
      " Average Recall     (AR) @[ IoU=0.50:0.95 | area=   all | maxDets=100 ] = 0.566\n",
      " Average Recall     (AR) @[ IoU=0.50:0.95 | area= small | maxDets=100 ] = 0.378\n",
      " Average Recall     (AR) @[ IoU=0.50:0.95 | area=medium | maxDets=100 ] = 0.625\n",
      " Average Recall     (AR) @[ IoU=0.50:0.95 | area= large | maxDets=100 ] = 0.724\n",
      "Results saved to \u001b[1mruns/val/exp\u001b[0m\n"
     ]
    }
   ],
   "source": [
    "# Validate YOLOv5s on COCO val\n",
    "!python val.py --weights yolov5s.pt --data coco.yaml --img 640 --half"
   ]
  },
  {
   "cell_type": "markdown",
   "metadata": {
    "id": "ZY2VXXXu74w5"
   },
   "source": [
    "# 3. Train\n",
    "\n",
    "<p align=\"\"><a href=\"https://roboflow.com/?ref=ultralytics\"><img width=\"1000\" src=\"https://uploads-ssl.webflow.com/5f6bc60e665f54545a1e52a5/615627e5824c9c6195abfda9_computer-vision-cycle.png\"/></a></p>\n",
    "Close the active learning loop by sampling images from your inference conditions with the `roboflow` pip package\n",
    "<br><br>\n",
    "\n",
    "Train a YOLOv5s model on the [COCO128](https://www.kaggle.com/ultralytics/coco128) dataset with `--data coco128.yaml`, starting from pretrained `--weights yolov5s.pt`, or from randomly initialized `--weights '' --cfg yolov5s.yaml`.\n",
    "\n",
    "- **Pretrained [Models](https://github.com/ultralytics/yolov5/tree/master/models)** are downloaded\n",
    "automatically from the [latest YOLOv5 release](https://github.com/ultralytics/yolov5/releases)\n",
    "- **[Datasets](https://github.com/ultralytics/yolov5/tree/master/data)** available for autodownload include: [COCO](https://github.com/ultralytics/yolov5/blob/master/data/coco.yaml), [COCO128](https://github.com/ultralytics/yolov5/blob/master/data/coco128.yaml), [VOC](https://github.com/ultralytics/yolov5/blob/master/data/VOC.yaml), [Argoverse](https://github.com/ultralytics/yolov5/blob/master/data/Argoverse.yaml), [VisDrone](https://github.com/ultralytics/yolov5/blob/master/data/VisDrone.yaml), [GlobalWheat](https://github.com/ultralytics/yolov5/blob/master/data/GlobalWheat2020.yaml), [xView](https://github.com/ultralytics/yolov5/blob/master/data/xView.yaml), [Objects365](https://github.com/ultralytics/yolov5/blob/master/data/Objects365.yaml), [SKU-110K](https://github.com/ultralytics/yolov5/blob/master/data/SKU-110K.yaml).\n",
    "- **Training Results** are saved to `runs/train/` with incrementing run directories, i.e. `runs/train/exp2`, `runs/train/exp3` etc.\n",
    "<br><br>\n",
    "\n",
    "A **Mosaic Dataloader** is used for training which combines 4 images into 1 mosaic.\n",
    "\n",
    "## Train on Custom Data with Roboflow 🌟 NEW\n",
    "\n",
    "[Roboflow](https://roboflow.com/?ref=ultralytics) enables you to easily **organize, label, and prepare** a high quality dataset with your own custom data. Roboflow also makes it easy to establish an active learning pipeline, collaborate with your team on dataset improvement, and integrate directly into your model building workflow with the `roboflow` pip package.\n",
    "\n",
    "- Custom Training Example: [https://blog.roboflow.com/how-to-train-yolov5-on-a-custom-dataset/](https://blog.roboflow.com/how-to-train-yolov5-on-a-custom-dataset/?ref=ultralytics)\n",
    "- Custom Training Notebook: [![Open In Colab](https://colab.research.google.com/assets/colab-badge.svg)](https://colab.research.google.com/github/roboflow-ai/yolov5-custom-training-tutorial/blob/main/yolov5-custom-training.ipynb)\n",
    "<br>\n",
    "\n",
    "<p align=\"\"><a href=\"https://roboflow.com/?ref=ultralytics\"><img width=\"480\" src=\"https://uploads-ssl.webflow.com/5f6bc60e665f54545a1e52a5/6152a275ad4b4ac20cd2e21a_roboflow-annotate.gif\"/></a></p>Label images lightning fast (including with model-assisted labeling)"
   ]
  },
  {
   "cell_type": "code",
   "execution_count": null,
   "metadata": {
    "id": "i3oKtE4g-aNn"
   },
   "outputs": [],
   "source": [
    "#@title Select YOLOv5 🚀 logger {run: 'auto'}\n",
    "logger = 'TensorBoard' #@param ['TensorBoard', 'Comet', 'ClearML']\n",
    "\n",
    "if logger == 'TensorBoard':\n",
    "  %load_ext tensorboard\n",
    "  %tensorboard --logdir runs/train\n",
    "elif logger == 'Comet':\n",
    "  %pip install -q comet_ml\n",
    "  import comet_ml; comet_ml.init()\n",
    "elif logger == 'ClearML':\n",
    "  %pip install -q clearml && clearml-init"
   ]
  },
  {
   "cell_type": "code",
   "execution_count": 11,
   "metadata": {},
   "outputs": [
    {
     "name": "stdout",
     "output_type": "stream",
     "text": [
      "Requirement already satisfied: tensorboard in c:\\users\\soham\\anaconda3\\lib\\site-packages (2.8.0)\n",
      "Requirement already satisfied: google-auth-oauthlib<0.5,>=0.4.1 in c:\\users\\soham\\anaconda3\\lib\\site-packages (from tensorboard) (0.4.6)\n",
      "Requirement already satisfied: google-auth<3,>=1.6.3 in c:\\users\\soham\\anaconda3\\lib\\site-packages (from tensorboard) (2.6.2)\n",
      "Requirement already satisfied: requests<3,>=2.21.0 in c:\\users\\soham\\anaconda3\\lib\\site-packages (from tensorboard) (2.26.0)\n",
      "Requirement already satisfied: tensorboard-plugin-wit>=1.6.0 in c:\\users\\soham\\anaconda3\\lib\\site-packages (from tensorboard) (1.8.1)\n",
      "Requirement already satisfied: wheel>=0.26 in c:\\users\\soham\\anaconda3\\lib\\site-packages (from tensorboard) (0.37.0)\n",
      "Requirement already satisfied: werkzeug>=0.11.15 in c:\\users\\soham\\anaconda3\\lib\\site-packages (from tensorboard) (2.0.2)\n",
      "Requirement already satisfied: absl-py>=0.4 in c:\\users\\soham\\anaconda3\\lib\\site-packages (from tensorboard) (1.0.0)\n",
      "Requirement already satisfied: markdown>=2.6.8 in c:\\users\\soham\\anaconda3\\lib\\site-packages (from tensorboard) (3.3.6)\n",
      "Requirement already satisfied: protobuf>=3.6.0 in c:\\users\\soham\\anaconda3\\lib\\site-packages (from tensorboard) (4.21.9)\n",
      "Requirement already satisfied: grpcio>=1.24.3 in c:\\users\\soham\\anaconda3\\lib\\site-packages (from tensorboard) (1.50.0)\n",
      "Requirement already satisfied: setuptools>=41.0.0 in c:\\users\\soham\\anaconda3\\lib\\site-packages (from tensorboard) (58.0.4)\n",
      "Requirement already satisfied: tensorboard-data-server<0.7.0,>=0.6.0 in c:\\users\\soham\\anaconda3\\lib\\site-packages (from tensorboard) (0.6.1)\n",
      "Requirement already satisfied: numpy>=1.12.0 in c:\\users\\soham\\anaconda3\\lib\\site-packages (from tensorboard) (1.20.3)\n",
      "Requirement already satisfied: six in c:\\users\\soham\\anaconda3\\lib\\site-packages (from absl-py>=0.4->tensorboard) (1.16.0)\n",
      "Requirement already satisfied: rsa<5,>=3.1.4 in c:\\users\\soham\\anaconda3\\lib\\site-packages (from google-auth<3,>=1.6.3->tensorboard) (4.8)\n",
      "Requirement already satisfied: cachetools<6.0,>=2.0.0 in c:\\users\\soham\\anaconda3\\lib\\site-packages (from google-auth<3,>=1.6.3->tensorboard) (5.0.0)\n",
      "Requirement already satisfied: pyasn1-modules>=0.2.1 in c:\\users\\soham\\anaconda3\\lib\\site-packages (from google-auth<3,>=1.6.3->tensorboard) (0.2.8)\n",
      "Requirement already satisfied: requests-oauthlib>=0.7.0 in c:\\users\\soham\\anaconda3\\lib\\site-packages (from google-auth-oauthlib<0.5,>=0.4.1->tensorboard) (1.3.1)\n",
      "Requirement already satisfied: importlib-metadata>=4.4 in c:\\users\\soham\\anaconda3\\lib\\site-packages (from markdown>=2.6.8->tensorboard) (4.8.1)\n",
      "Requirement already satisfied: zipp>=0.5 in c:\\users\\soham\\anaconda3\\lib\\site-packages (from importlib-metadata>=4.4->markdown>=2.6.8->tensorboard) (3.6.0)\n",
      "Requirement already satisfied: pyasn1<0.5.0,>=0.4.6 in c:\\users\\soham\\anaconda3\\lib\\site-packages (from pyasn1-modules>=0.2.1->google-auth<3,>=1.6.3->tensorboard) (0.4.8)\n",
      "Requirement already satisfied: idna<4,>=2.5 in c:\\users\\soham\\anaconda3\\lib\\site-packages (from requests<3,>=2.21.0->tensorboard) (3.2)\n",
      "Requirement already satisfied: urllib3<1.27,>=1.21.1 in c:\\users\\soham\\anaconda3\\lib\\site-packages (from requests<3,>=2.21.0->tensorboard) (1.26.7)\n",
      "Requirement already satisfied: charset-normalizer~=2.0.0 in c:\\users\\soham\\anaconda3\\lib\\site-packages (from requests<3,>=2.21.0->tensorboard) (2.0.4)\n",
      "Requirement already satisfied: certifi>=2017.4.17 in c:\\users\\soham\\anaconda3\\lib\\site-packages (from requests<3,>=2.21.0->tensorboard) (2022.9.24)\n",
      "Requirement already satisfied: oauthlib>=3.0.0 in c:\\users\\soham\\anaconda3\\lib\\site-packages (from requests-oauthlib>=0.7.0->google-auth-oauthlib<0.5,>=0.4.1->tensorboard) (3.2.0)\n",
      "Note: you may need to restart the kernel to use updated packages.\n"
     ]
    },
    {
     "name": "stderr",
     "output_type": "stream",
     "text": [
      "WARNING: Ignoring invalid distribution -rotobuf (c:\\users\\soham\\anaconda3\\lib\\site-packages)\n",
      "WARNING: Ignoring invalid distribution -pencv-python (c:\\users\\soham\\anaconda3\\lib\\site-packages)\n",
      "WARNING: Ignoring invalid distribution -rotobuf (c:\\users\\soham\\anaconda3\\lib\\site-packages)\n",
      "WARNING: Ignoring invalid distribution -pencv-python (c:\\users\\soham\\anaconda3\\lib\\site-packages)\n",
      "WARNING: Ignoring invalid distribution -rotobuf (c:\\users\\soham\\anaconda3\\lib\\site-packages)\n",
      "WARNING: Ignoring invalid distribution -pencv-python (c:\\users\\soham\\anaconda3\\lib\\site-packages)\n",
      "WARNING: Ignoring invalid distribution -rotobuf (c:\\users\\soham\\anaconda3\\lib\\site-packages)\n",
      "WARNING: Ignoring invalid distribution -pencv-python (c:\\users\\soham\\anaconda3\\lib\\site-packages)\n",
      "WARNING: Ignoring invalid distribution -rotobuf (c:\\users\\soham\\anaconda3\\lib\\site-packages)\n",
      "WARNING: Ignoring invalid distribution -pencv-python (c:\\users\\soham\\anaconda3\\lib\\site-packages)\n",
      "WARNING: Ignoring invalid distribution -rotobuf (c:\\users\\soham\\anaconda3\\lib\\site-packages)\n",
      "WARNING: Ignoring invalid distribution -pencv-python (c:\\users\\soham\\anaconda3\\lib\\site-packages)\n"
     ]
    }
   ],
   "source": [
    "pip install tensorboard"
   ]
  },
  {
   "cell_type": "code",
   "execution_count": 4,
   "metadata": {},
   "outputs": [
    {
     "name": "stdout",
     "output_type": "stream",
     "text": [
      "Requirement already satisfied: comet_ml in c:\\users\\soham\\appdata\\local\\programs\\python\\python310\\lib\\site-packages (3.31.19)\n",
      "Requirement already satisfied: six in c:\\users\\soham\\appdata\\local\\programs\\python\\python310\\lib\\site-packages (from comet_ml) (1.16.0)\n",
      "Requirement already satisfied: semantic-version>=2.8.0 in c:\\users\\soham\\appdata\\local\\programs\\python\\python310\\lib\\site-packages (from comet_ml) (2.10.0)\n",
      "Requirement already satisfied: websocket-client<1.4.0,>=0.55.0 in c:\\users\\soham\\appdata\\local\\programs\\python\\python310\\lib\\site-packages (from comet_ml) (1.3.3)\n",
      "Requirement already satisfied: simplejson in c:\\users\\soham\\appdata\\local\\programs\\python\\python310\\lib\\site-packages (from comet_ml) (3.18.0)\n",
      "Requirement already satisfied: dulwich!=0.20.33,>=0.20.6 in c:\\users\\soham\\appdata\\local\\programs\\python\\python310\\lib\\site-packages (from comet_ml) (0.20.50)\n",
      "Requirement already satisfied: wrapt>=1.11.2 in c:\\users\\soham\\appdata\\local\\programs\\python\\python310\\lib\\site-packages (from comet_ml) (1.14.1)\n",
      "Requirement already satisfied: requests>=2.18.4 in c:\\users\\soham\\appdata\\local\\programs\\python\\python310\\lib\\site-packages (from comet_ml) (2.28.1)\n",
      "Requirement already satisfied: sentry-sdk>=1.1.0 in c:\\users\\soham\\appdata\\local\\programs\\python\\python310\\lib\\site-packages (from comet_ml) (1.11.1)\n",
      "Requirement already satisfied: everett[ini]>=1.0.1 in c:\\users\\soham\\appdata\\local\\programs\\python\\python310\\lib\\site-packages (from comet_ml) (3.1.0)\n",
      "Requirement already satisfied: requests-toolbelt>=0.8.0 in c:\\users\\soham\\appdata\\local\\programs\\python\\python310\\lib\\site-packages (from comet_ml) (0.10.1)\n",
      "Requirement already satisfied: wurlitzer>=1.0.2 in c:\\users\\soham\\appdata\\local\\programs\\python\\python310\\lib\\site-packages (from comet_ml) (3.0.2)\n",
      "Requirement already satisfied: jsonschema!=3.1.0,>=2.6.0 in c:\\users\\soham\\appdata\\local\\programs\\python\\python310\\lib\\site-packages (from comet_ml) (4.17.0)\n",
      "Requirement already satisfied: urllib3>=1.25 in c:\\users\\soham\\appdata\\local\\programs\\python\\python310\\lib\\site-packages (from dulwich!=0.20.33,>=0.20.6->comet_ml) (1.26.12)\n",
      "Requirement already satisfied: configobj in c:\\users\\soham\\appdata\\local\\programs\\python\\python310\\lib\\site-packages (from everett[ini]>=1.0.1->comet_ml) (5.0.6)\n",
      "Requirement already satisfied: pyrsistent!=0.17.0,!=0.17.1,!=0.17.2,>=0.14.0 in c:\\users\\soham\\appdata\\local\\programs\\python\\python310\\lib\\site-packages (from jsonschema!=3.1.0,>=2.6.0->comet_ml) (0.19.2)\n",
      "Requirement already satisfied: attrs>=17.4.0 in c:\\users\\soham\\appdata\\local\\programs\\python\\python310\\lib\\site-packages (from jsonschema!=3.1.0,>=2.6.0->comet_ml) (22.1.0)\n",
      "Requirement already satisfied: charset-normalizer<3,>=2 in c:\\users\\soham\\appdata\\local\\programs\\python\\python310\\lib\\site-packages (from requests>=2.18.4->comet_ml) (2.1.1)\n",
      "Requirement already satisfied: idna<4,>=2.5 in c:\\users\\soham\\appdata\\local\\programs\\python\\python310\\lib\\site-packages (from requests>=2.18.4->comet_ml) (3.4)\n",
      "Requirement already satisfied: certifi>=2017.4.17 in c:\\users\\soham\\appdata\\local\\programs\\python\\python310\\lib\\site-packages (from requests>=2.18.4->comet_ml) (2022.9.24)\n"
     ]
    }
   ],
   "source": [
    "!pip install comet_ml  \n"
   ]
  },
  {
   "cell_type": "markdown",
   "metadata": {},
   "source": []
  },
  {
   "cell_type": "code",
   "execution_count": null,
   "metadata": {
    "colab": {
     "base_uri": "https://localhost:8080/"
    },
    "id": "1NcFxRcFdJ_O",
    "outputId": "baa6d4be-3379-4aab-844a-d5a5396c0e49"
   },
   "outputs": [],
   "source": [
    "# Train YOLOv5s on COCO128 for 3 epochs\n",
    "\n",
    "\n",
    "!python train.py --img 640 --batch 2 --epochs 75 --data custom1.yaml --weights yolov5n.pt --cache"
   ]
  },
  {
   "cell_type": "markdown",
   "metadata": {
    "id": "15glLzbQx5u0"
   },
   "source": [
    "# 4. Visualize"
   ]
  },
  {
   "cell_type": "markdown",
   "metadata": {
    "id": "nWOsI5wJR1o3"
   },
   "source": [
    "## Comet Logging and Visualization 🌟 NEW\n",
    "[Comet](https://bit.ly/yolov5-readme-comet) is now fully integrated with YOLOv5. Track and visualize model metrics in real time, save your hyperparameters, datasets, and model checkpoints, and visualize your model predictions with [Comet Custom Panels](https://bit.ly/yolov5-colab-comet-panels)! Comet makes sure you never lose track of your work and makes it easy to share results and collaborate across teams of all sizes! \n",
    "\n",
    "Getting started is easy:\n",
    "```shell\n",
    "pip install comet_ml  # 1. install\n",
    "export COMET_API_KEY=<Your API Key>  # 2. paste API key\n",
    "python train.py --img 640 --epochs 3 --data coco128.yaml --weights yolov5s.pt  # 3. train\n",
    "```\n",
    "\n",
    "To learn more about all of the supported Comet features for this integration, check out the [Comet Tutorial](https://github.com/ultralytics/yolov5/tree/master/utils/loggers/comet). If you'd like to learn more about Comet, head over to our [documentation](https://bit.ly/yolov5-colab-comet-docs). Get started by trying out the Comet Colab Notebook:\n",
    "[![Open In Colab](https://colab.research.google.com/assets/colab-badge.svg)](https://colab.research.google.com/drive/1RG0WOQyxlDlo5Km8GogJpIEJlg_5lyYO?usp=sharing)\n",
    "\n",
    "<img width=\"1920\" alt=\"yolo-ui\" src=\"https://user-images.githubusercontent.com/7529846/187608607-ff89c3d5-1b8b-4743-a974-9275301b0524.png\">"
   ]
  },
  {
   "cell_type": "markdown",
   "metadata": {
    "id": "Lay2WsTjNJzP"
   },
   "source": [
    "## ClearML Logging and Automation 🌟 NEW\n",
    "\n",
    "[ClearML](https://cutt.ly/yolov5-notebook-clearml) is completely integrated into YOLOv5 to track your experimentation, manage dataset versions and even remotely execute training runs. To enable ClearML (check cells above):\n",
    "\n",
    "- `pip install clearml`\n",
    "- run `clearml-init` to connect to a ClearML server (**deploy your own [open-source server](https://github.com/allegroai/clearml-server)**, or use our [free hosted server](https://cutt.ly/yolov5-notebook-clearml))\n",
    "\n",
    "You'll get all the great expected features from an experiment manager: live updates, model upload, experiment comparison etc. but ClearML also tracks uncommitted changes and installed packages for example. Thanks to that ClearML Tasks (which is what we call experiments) are also reproducible on different machines! With only 1 extra line, we can schedule a YOLOv5 training task on a queue to be executed by any number of ClearML Agents (workers).\n",
    "\n",
    "You can use ClearML Data to version your dataset and then pass it to YOLOv5 simply using its unique ID. This will help you keep track of your data without adding extra hassle. Explore the [ClearML Tutorial](https://github.com/ultralytics/yolov5/tree/master/utils/loggers/clearml) for details!\n",
    "\n",
    "<a href=\"https://cutt.ly/yolov5-notebook-clearml\">\n",
    "<img alt=\"ClearML Experiment Management UI\" src=\"https://github.com/thepycoder/clearml_screenshots/raw/main/scalars.jpg\" width=\"1280\"/></a>"
   ]
  },
  {
   "cell_type": "markdown",
   "metadata": {
    "id": "-WPvRbS5Swl6"
   },
   "source": [
    "## Local Logging\n",
    "\n",
    "Training results are automatically logged with [Tensorboard](https://www.tensorflow.org/tensorboard) and [CSV](https://github.com/ultralytics/yolov5/pull/4148) loggers to `runs/train`, with a new experiment directory created for each new training as `runs/train/exp2`, `runs/train/exp3`, etc.\n",
    "\n",
    "This directory contains train and val statistics, mosaics, labels, predictions and augmentated mosaics, as well as metrics and charts including precision-recall (PR) curves and confusion matrices. \n",
    "\n",
    "<img alt=\"Local logging results\" src=\"https://user-images.githubusercontent.com/26833433/183222430-e1abd1b7-782c-4cde-b04d-ad52926bf818.jpg\" width=\"1280\"/>\n"
   ]
  },
  {
   "cell_type": "markdown",
   "metadata": {
    "id": "Zelyeqbyt3GD"
   },
   "source": [
    "# Environments\n",
    "\n",
    "YOLOv5 may be run in any of the following up-to-date verified environments (with all dependencies including [CUDA](https://developer.nvidia.com/cuda)/[CUDNN](https://developer.nvidia.com/cudnn), [Python](https://www.python.org/) and [PyTorch](https://pytorch.org/) preinstalled):\n",
    "\n",
    "- **Notebooks** with free GPU: <a href=\"https://bit.ly/yolov5-paperspace-notebook\"><img src=\"https://assets.paperspace.io/img/gradient-badge.svg\" alt=\"Run on Gradient\"></a> <a href=\"https://colab.research.google.com/github/ultralytics/yolov5/blob/master/tutorial.ipynb\"><img src=\"https://colab.research.google.com/assets/colab-badge.svg\" alt=\"Open In Colab\"></a> <a href=\"https://www.kaggle.com/ultralytics/yolov5\"><img src=\"https://kaggle.com/static/images/open-in-kaggle.svg\" alt=\"Open In Kaggle\"></a>\n",
    "- **Google Cloud** Deep Learning VM. See [GCP Quickstart Guide](https://github.com/ultralytics/yolov5/wiki/GCP-Quickstart)\n",
    "- **Amazon** Deep Learning AMI. See [AWS Quickstart Guide](https://github.com/ultralytics/yolov5/wiki/AWS-Quickstart)\n",
    "- **Docker Image**. See [Docker Quickstart Guide](https://github.com/ultralytics/yolov5/wiki/Docker-Quickstart) <a href=\"https://hub.docker.com/r/ultralytics/yolov5\"><img src=\"https://img.shields.io/docker/pulls/ultralytics/yolov5?logo=docker\" alt=\"Docker Pulls\"></a>\n"
   ]
  },
  {
   "cell_type": "markdown",
   "metadata": {
    "id": "6Qu7Iesl0p54"
   },
   "source": [
    "# Status\n",
    "\n",
    "![YOLOv5 CI](https://github.com/ultralytics/yolov5/actions/workflows/ci-testing.yml/badge.svg)\n",
    "\n",
    "If this badge is green, all [YOLOv5 GitHub Actions](https://github.com/ultralytics/yolov5/actions) Continuous Integration (CI) tests are currently passing. CI tests verify correct operation of YOLOv5 training ([train.py](https://github.com/ultralytics/yolov5/blob/master/train.py)), testing ([val.py](https://github.com/ultralytics/yolov5/blob/master/val.py)), inference ([detect.py](https://github.com/ultralytics/yolov5/blob/master/detect.py)) and export ([export.py](https://github.com/ultralytics/yolov5/blob/master/export.py)) on macOS, Windows, and Ubuntu every 24 hours and on every commit.\n"
   ]
  },
  {
   "cell_type": "markdown",
   "metadata": {
    "id": "IEijrePND_2I"
   },
   "source": [
    "# Appendix\n",
    "\n",
    "Additional content below."
   ]
  },
  {
   "cell_type": "code",
   "execution_count": null,
   "metadata": {
    "id": "GMusP4OAxFu6"
   },
   "outputs": [],
   "source": [
    "# YOLOv5 PyTorch HUB Inference (DetectionModels only)\n",
    "import torch\n",
    "\n",
    "model = torch.hub.load('ultralytics/yolov5', 'yolov5s')  # yolov5n - yolov5x6 or custom\n",
    "im = 'https://ultralytics.com/images/zidane.jpg'  # file, Path, PIL.Image, OpenCV, nparray, list\n",
    "results = model(im)  # inference\n",
    "results.print()  # or .show(), .save(), .crop(), .pandas(), etc."
   ]
  }
 ],
 "metadata": {
  "accelerator": "GPU",
  "colab": {
   "collapsed_sections": [],
   "machine_shape": "hm",
   "name": "YOLOv5 Tutorial",
   "provenance": [],
   "toc_visible": true
  },
  "kernelspec": {
   "display_name": "Python 3 (ipykernel)",
   "language": "python",
   "name": "python3"
  },
  "language_info": {
   "codemirror_mode": {
    "name": "ipython",
    "version": 3
   },
   "file_extension": ".py",
   "mimetype": "text/x-python",
   "name": "python",
   "nbconvert_exporter": "python",
   "pygments_lexer": "ipython3",
   "version": "3.9.7"
  },
  "widgets": {
   "application/vnd.jupyter.widget-state+json": {
    "0856bea36ec148b68522ff9c9eb258d8": {
     "model_module": "@jupyter-widgets/controls",
     "model_module_version": "1.5.0",
     "model_name": "DescriptionStyleModel",
     "state": {
      "_model_module": "@jupyter-widgets/controls",
      "_model_module_version": "1.5.0",
      "_model_name": "DescriptionStyleModel",
      "_view_count": null,
      "_view_module": "@jupyter-widgets/base",
      "_view_module_version": "1.2.0",
      "_view_name": "StyleView",
      "description_width": ""
     }
    },
    "0ace3934ec6f4d36a1b3a9e086390926": {
     "model_module": "@jupyter-widgets/controls",
     "model_module_version": "1.5.0",
     "model_name": "ProgressStyleModel",
     "state": {
      "_model_module": "@jupyter-widgets/controls",
      "_model_module_version": "1.5.0",
      "_model_name": "ProgressStyleModel",
      "_view_count": null,
      "_view_module": "@jupyter-widgets/base",
      "_view_module_version": "1.2.0",
      "_view_name": "StyleView",
      "bar_color": null,
      "description_width": ""
     }
    },
    "35e03ce5090346c9ae602891470fc555": {
     "model_module": "@jupyter-widgets/controls",
     "model_module_version": "1.5.0",
     "model_name": "FloatProgressModel",
     "state": {
      "_dom_classes": [],
      "_model_module": "@jupyter-widgets/controls",
      "_model_module_version": "1.5.0",
      "_model_name": "FloatProgressModel",
      "_view_count": null,
      "_view_module": "@jupyter-widgets/controls",
      "_view_module_version": "1.5.0",
      "_view_name": "ProgressView",
      "bar_style": "success",
      "description": "",
      "description_tooltip": null,
      "layout": "IPY_MODEL_76879f6f2aa54637a7a07faeea2bd684",
      "max": 818322941,
      "min": 0,
      "orientation": "horizontal",
      "style": "IPY_MODEL_0ace3934ec6f4d36a1b3a9e086390926",
      "value": 818322941
     }
    },
    "574140e4c4bc48c9a171541a02cd0211": {
     "model_module": "@jupyter-widgets/controls",
     "model_module_version": "1.5.0",
     "model_name": "HTMLModel",
     "state": {
      "_dom_classes": [],
      "_model_module": "@jupyter-widgets/controls",
      "_model_module_version": "1.5.0",
      "_model_name": "HTMLModel",
      "_view_count": null,
      "_view_module": "@jupyter-widgets/controls",
      "_view_module_version": "1.5.0",
      "_view_name": "HTMLView",
      "description": "",
      "description_tooltip": null,
      "layout": "IPY_MODEL_60b913d755b34d638478e30705a2dde1",
      "placeholder": "​",
      "style": "IPY_MODEL_0856bea36ec148b68522ff9c9eb258d8",
      "value": "100%"
     }
    },
    "5966ba6e6f114d8c9d8d1d6b1bd4f4c7": {
     "model_module": "@jupyter-widgets/controls",
     "model_module_version": "1.5.0",
     "model_name": "DescriptionStyleModel",
     "state": {
      "_model_module": "@jupyter-widgets/controls",
      "_model_module_version": "1.5.0",
      "_model_name": "DescriptionStyleModel",
      "_view_count": null,
      "_view_module": "@jupyter-widgets/base",
      "_view_module_version": "1.2.0",
      "_view_name": "StyleView",
      "description_width": ""
     }
    },
    "60b913d755b34d638478e30705a2dde1": {
     "model_module": "@jupyter-widgets/base",
     "model_module_version": "1.2.0",
     "model_name": "LayoutModel",
     "state": {
      "_model_module": "@jupyter-widgets/base",
      "_model_module_version": "1.2.0",
      "_model_name": "LayoutModel",
      "_view_count": null,
      "_view_module": "@jupyter-widgets/base",
      "_view_module_version": "1.2.0",
      "_view_name": "LayoutView",
      "align_content": null,
      "align_items": null,
      "align_self": null,
      "border": null,
      "bottom": null,
      "display": null,
      "flex": null,
      "flex_flow": null,
      "grid_area": null,
      "grid_auto_columns": null,
      "grid_auto_flow": null,
      "grid_auto_rows": null,
      "grid_column": null,
      "grid_gap": null,
      "grid_row": null,
      "grid_template_areas": null,
      "grid_template_columns": null,
      "grid_template_rows": null,
      "height": null,
      "justify_content": null,
      "justify_items": null,
      "left": null,
      "margin": null,
      "max_height": null,
      "max_width": null,
      "min_height": null,
      "min_width": null,
      "object_fit": null,
      "object_position": null,
      "order": null,
      "overflow": null,
      "overflow_x": null,
      "overflow_y": null,
      "padding": null,
      "right": null,
      "top": null,
      "visibility": null,
      "width": null
     }
    },
    "65881db1db8a4e9c930fab9172d45143": {
     "model_module": "@jupyter-widgets/base",
     "model_module_version": "1.2.0",
     "model_name": "LayoutModel",
     "state": {
      "_model_module": "@jupyter-widgets/base",
      "_model_module_version": "1.2.0",
      "_model_name": "LayoutModel",
      "_view_count": null,
      "_view_module": "@jupyter-widgets/base",
      "_view_module_version": "1.2.0",
      "_view_name": "LayoutView",
      "align_content": null,
      "align_items": null,
      "align_self": null,
      "border": null,
      "bottom": null,
      "display": null,
      "flex": null,
      "flex_flow": null,
      "grid_area": null,
      "grid_auto_columns": null,
      "grid_auto_flow": null,
      "grid_auto_rows": null,
      "grid_column": null,
      "grid_gap": null,
      "grid_row": null,
      "grid_template_areas": null,
      "grid_template_columns": null,
      "grid_template_rows": null,
      "height": null,
      "justify_content": null,
      "justify_items": null,
      "left": null,
      "margin": null,
      "max_height": null,
      "max_width": null,
      "min_height": null,
      "min_width": null,
      "object_fit": null,
      "object_position": null,
      "order": null,
      "overflow": null,
      "overflow_x": null,
      "overflow_y": null,
      "padding": null,
      "right": null,
      "top": null,
      "visibility": null,
      "width": null
     }
    },
    "76879f6f2aa54637a7a07faeea2bd684": {
     "model_module": "@jupyter-widgets/base",
     "model_module_version": "1.2.0",
     "model_name": "LayoutModel",
     "state": {
      "_model_module": "@jupyter-widgets/base",
      "_model_module_version": "1.2.0",
      "_model_name": "LayoutModel",
      "_view_count": null,
      "_view_module": "@jupyter-widgets/base",
      "_view_module_version": "1.2.0",
      "_view_name": "LayoutView",
      "align_content": null,
      "align_items": null,
      "align_self": null,
      "border": null,
      "bottom": null,
      "display": null,
      "flex": null,
      "flex_flow": null,
      "grid_area": null,
      "grid_auto_columns": null,
      "grid_auto_flow": null,
      "grid_auto_rows": null,
      "grid_column": null,
      "grid_gap": null,
      "grid_row": null,
      "grid_template_areas": null,
      "grid_template_columns": null,
      "grid_template_rows": null,
      "height": null,
      "justify_content": null,
      "justify_items": null,
      "left": null,
      "margin": null,
      "max_height": null,
      "max_width": null,
      "min_height": null,
      "min_width": null,
      "object_fit": null,
      "object_position": null,
      "order": null,
      "overflow": null,
      "overflow_x": null,
      "overflow_y": null,
      "padding": null,
      "right": null,
      "top": null,
      "visibility": null,
      "width": null
     }
    },
    "9b8caa3522fc4cbab31e13b5dfc7808d": {
     "model_module": "@jupyter-widgets/controls",
     "model_module_version": "1.5.0",
     "model_name": "HBoxModel",
     "state": {
      "_dom_classes": [],
      "_model_module": "@jupyter-widgets/controls",
      "_model_module_version": "1.5.0",
      "_model_name": "HBoxModel",
      "_view_count": null,
      "_view_module": "@jupyter-widgets/controls",
      "_view_module_version": "1.5.0",
      "_view_name": "HBoxView",
      "box_style": "",
      "children": [
       "IPY_MODEL_574140e4c4bc48c9a171541a02cd0211",
       "IPY_MODEL_35e03ce5090346c9ae602891470fc555",
       "IPY_MODEL_c942c208e72d46568b476bb0f2d75496"
      ],
      "layout": "IPY_MODEL_65881db1db8a4e9c930fab9172d45143"
     }
    },
    "c942c208e72d46568b476bb0f2d75496": {
     "model_module": "@jupyter-widgets/controls",
     "model_module_version": "1.5.0",
     "model_name": "HTMLModel",
     "state": {
      "_dom_classes": [],
      "_model_module": "@jupyter-widgets/controls",
      "_model_module_version": "1.5.0",
      "_model_name": "HTMLModel",
      "_view_count": null,
      "_view_module": "@jupyter-widgets/controls",
      "_view_module_version": "1.5.0",
      "_view_name": "HTMLView",
      "description": "",
      "description_tooltip": null,
      "layout": "IPY_MODEL_d6b7a2243e0c4beca714d99dceec23d6",
      "placeholder": "​",
      "style": "IPY_MODEL_5966ba6e6f114d8c9d8d1d6b1bd4f4c7",
      "value": " 780M/780M [02:19&lt;00:00, 6.24MB/s]"
     }
    },
    "d6b7a2243e0c4beca714d99dceec23d6": {
     "model_module": "@jupyter-widgets/base",
     "model_module_version": "1.2.0",
     "model_name": "LayoutModel",
     "state": {
      "_model_module": "@jupyter-widgets/base",
      "_model_module_version": "1.2.0",
      "_model_name": "LayoutModel",
      "_view_count": null,
      "_view_module": "@jupyter-widgets/base",
      "_view_module_version": "1.2.0",
      "_view_name": "LayoutView",
      "align_content": null,
      "align_items": null,
      "align_self": null,
      "border": null,
      "bottom": null,
      "display": null,
      "flex": null,
      "flex_flow": null,
      "grid_area": null,
      "grid_auto_columns": null,
      "grid_auto_flow": null,
      "grid_auto_rows": null,
      "grid_column": null,
      "grid_gap": null,
      "grid_row": null,
      "grid_template_areas": null,
      "grid_template_columns": null,
      "grid_template_rows": null,
      "height": null,
      "justify_content": null,
      "justify_items": null,
      "left": null,
      "margin": null,
      "max_height": null,
      "max_width": null,
      "min_height": null,
      "min_width": null,
      "object_fit": null,
      "object_position": null,
      "order": null,
      "overflow": null,
      "overflow_x": null,
      "overflow_y": null,
      "padding": null,
      "right": null,
      "top": null,
      "visibility": null,
      "width": null
     }
    }
   }
  }
 },
 "nbformat": 4,
 "nbformat_minor": 1
}
